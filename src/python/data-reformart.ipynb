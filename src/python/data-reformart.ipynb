{
 "cells": [
  {
   "cell_type": "code",
   "execution_count": 1,
   "id": "verbal-gateway",
   "metadata": {},
   "outputs": [],
   "source": [
    "import os\n",
    "import pandas as pd\n",
    "import numpy as np\n",
    "from pathlib import Path\n",
    "import fnmatch\n",
    "from IPython.display import Markdown as md\n",
    "import plotly.graph_objects as go\n",
    "import plotly.express as px\n",
    "import math\n",
    "import random\n",
    "from dask import dataframe as dd\n",
    "import pickle"
   ]
  },
  {
   "cell_type": "code",
   "execution_count": 2,
   "id": "modern-blackberry",
   "metadata": {},
   "outputs": [],
   "source": [
    "pd.options.display.max_columns = 200\n",
    "pd.options.display.max_rows = 200\n",
    "pd.set_option(\"display.max_colwidth\", None)"
   ]
  },
  {
   "cell_type": "code",
   "execution_count": 3,
   "id": "recognized-thumbnail",
   "metadata": {},
   "outputs": [],
   "source": [
    "DATAPATH = Path('../../data/')\n",
    "DOCSPATH = Path('../../docs/data/')\n",
    "PLOTSPATH3D = Path('../../docs/plots/3d/')\n",
    "PLOTSPATH2D = Path('../../docs/plots/2d/')"
   ]
  },
  {
   "cell_type": "code",
   "execution_count": 4,
   "id": "identified-conclusion",
   "metadata": {},
   "outputs": [],
   "source": [
    "# Using Dask's DataFrames to glob all the event CSVs in `datapath`\n",
    "\n",
    "ddf = dd.read_csv(f\"{DATAPATH}/overworld/*.csv\")[\"player\"].unique().compute()\n",
    "# Swapping the index/data values so that when `dict(...)` is run we get entries like:\n",
    "#   \"<hash>\": <index>,\n",
    "ddf = pd.DataFrame({\"player\": ddf.values, \"pindex\": ddf.index.values})\n",
    "\n",
    "playerindex = {player: pindex for (player, pindex) in zip(ddf[\"player\"], ddf[\"pindex\"])}\n",
    "\n",
    "# NOTE then you can do something like...\n",
    "#     player2index = dict(pd.read_csv(datapath / \"playerindex.csv\"))\n",
    "#   and you'll have a dictionary that does the correct remapping\n",
    "\n",
    "get_colors = lambda n: list(map(lambda i: \"#\" + \"%06x\" % random.randint(0, 0xFFFFFF),range(n)))\n",
    "colors = get_colors(ddf.player.size)"
   ]
  },
  {
   "cell_type": "code",
   "execution_count": 5,
   "id": "0454f4f2-a40d-4aab-90f1-1f189a9b4d69",
   "metadata": {},
   "outputs": [],
   "source": [
    "def get_every(df, n):\n",
    "    return df.loc[df.index % n == 0]"
   ]
  },
  {
   "cell_type": "code",
   "execution_count": 6,
   "id": "62c128f4",
   "metadata": {},
   "outputs": [],
   "source": [
    "def stringify_attrs(row, cols: dict) -> str:\n",
    "    return \"\\n\".join([f\"{title}: {row[col]}\" for col, title in cols.items()])\n",
    "\n",
    "def make_metadata(group, event_name):\n",
    "    if event_name in [\"PlayerChangedWorldEvent\", \"PlayerDeathEvent\", \"PlayerRespawnEvent\", \"PlayerEggThrowEvent\", \"PlayerQuitEvent\", \"PlayerJoinEvent\", \"PlayerShearEntityEvent\"]:\n",
    "        return group[\"day\"].apply(lambda day: f\"Day {day}\")\n",
    "    elif event_name in [\"BlockPlaceEvent\", \"BlockBreakEvent\"]:\n",
    "        cols = {\"day\": \"Day\", \"block\": \"Block\"}\n",
    "        return group[cols].apply(lambda row: stringify_attrs(row, cols), axis=1).values.tolist()\n",
    "    elif event_name in [\"PlayerBucketFillEvent\", \"PlayerBucketEmptyEvent\"]:\n",
    "        cols = {\"day\": \"Day\", \"contents\": \"Bucket Contents\"}\n",
    "        return group[cols].apply(lambda row: stringify_attrs(row, cols), axis=1).values.tolist()\n",
    "    elif event_name in [\"PlayerLeashEntityEvent\", \"PlayerUnleashEntityEvent\"]:\n",
    "        cols = {\"day\": \"Day\", \"entity\": \"Entity\"}\n",
    "        return group[cols].apply(lambda row: stringify_attrs(row, cols), axis=1).values.tolist()\n",
    "    elif event_name  == \"EntityDamageByEntityEvent\":\n",
    "        cols = {\"day\": \"Day\", \"damaged\": \"Damaged\", \"cause\": \"Cause\", \"weapon\": \"Weapon Used\"}\n",
    "        return group[cols].apply(lambda row: stringify_attrs(row, cols), axis=1).values.tolist()\n",
    "    elif event_name == \"PlayerDropItemEvent\":\n",
    "        cols = {\"day\": \"Day\", \"itemDrop\": \"Item Dropped\"}\n",
    "        return group[cols].apply(lambda row: stringify_attrs(row, cols), axis=1).values.tolist()\n",
    "        # day and itemDrop\n",
    "    elif event_name == \"PlayerInteractEvent\":\n",
    "        cols = {\"day\": \"Day\", \"itemHeld\": \"Item Held\", \"action\": \"Action\"}\n",
    "        return group[cols].apply(lambda row: stringify_attrs(row, cols), axis=1).values.tolist()\n",
    "    elif event_name == \"ProjectileHitEvent\":\n",
    "        cols = {\"day\": \"Day\", \"weapon\": \"Weapon Used\", \"target\": \"Target\"}\n",
    "        return group[cols].apply(lambda row: stringify_attrs(row, cols), axis=1).values.tolist()"
   ]
  },
  {
   "cell_type": "code",
   "execution_count": 7,
   "id": "e28dbaa9-6296-451b-980f-9b61dccfac3a",
   "metadata": {},
   "outputs": [],
   "source": [
    "# %% Convert a Player into a Scatter3D trace if dim == True, else make 2D plot\n",
    "def player2trace(player, group, event_name, dim):\n",
    "    if dim == True:\n",
    "        scatter = go.Scatter3d(\n",
    "            mode=\"markers\",\n",
    "            x=group[\"x\"], y=group[\"z\"], z=group[\"y\"],\n",
    "            marker={\"size\": 3, \"color\": colors[player], \"opacity\": 0.8},\n",
    "            name=f\"Player {player}\",\n",
    "            text=make_metadata(group, event_name),\n",
    "        )\n",
    "    else:\n",
    "        scatter = go.Scatter(\n",
    "            mode=\"markers\",\n",
    "            x=group[\"x\"], y=group[\"z\"],\n",
    "            marker={\"size\": 3, \"color\": colors[player], \"opacity\": 0.8},\n",
    "            name=f\"Player {player}\",\n",
    "            text=make_metadata(group, event_name),\n",
    "        )\n",
    "    return scatter"
   ]
  },
  {
   "cell_type": "code",
   "execution_count": 8,
   "id": "040dce62-97be-4ba6-aaeb-381566bf7d43",
   "metadata": {},
   "outputs": [],
   "source": [
    "# %% Convert a DataFrame into a Plot\n",
    "def df2plot(df, name, dim):\n",
    "    traces = []\n",
    "\n",
    "    # For every player in the dataframe, convert them into a plotly trace\n",
    "    for (player, group) in df.groupby(\"pindex\"):\n",
    "        traces += [player2trace(player, group, name, dim)]\n",
    "    \n",
    "    fig = go.Figure(data=traces)\n",
    "    fig.update_layout({\n",
    "        \"title\": {\"text\": name},\n",
    "        \"width\": 600, \"height\": 600,\n",
    "    })\n",
    "    return fig"
   ]
  },
  {
   "cell_type": "code",
   "execution_count": 9,
   "id": "rational-investigator",
   "metadata": {},
   "outputs": [],
   "source": [
    "# %% Preprocess the DataFrame\n",
    "def preprocess_df(file):\n",
    "    df = pd.read_csv(file)\n",
    "    # Use the Player Index created by Dask (above) to do the mappings\n",
    "    # player2index = dict(pd.read_csv(DATAPATH / \"playerindex.csv\"))\n",
    "    df[\"pindex\"] = df[\"player\"].replace(playerindex)\n",
    "\n",
    "    df = df.rename(columns={\n",
    "        \"location.x\": \"x\", \"location.y\": \"y\", \"location.z\": \"z\",\n",
    "        \"worldTime\": \"time\",\n",
    "    })\n",
    "\n",
    "    df[\"day\"] = np.floor((df[\"time\"] / 1728000)).astype(int)\n",
    "\n",
    "    return df"
   ]
  },
  {
   "cell_type": "code",
   "execution_count": 10,
   "id": "stuck-modification",
   "metadata": {},
   "outputs": [],
   "source": [
    "# %% Chunk events by Players\n",
    "def chunk_by_player(event_path, df, name):\n",
    "    for (player, group) in df.groupby(\"pindex\"):\n",
    "        fname = event_path / f\"{player}_{name}.csv\"\n",
    "        \n",
    "        # Comment line below if you don't want to save files to CSV\n",
    "        group.reset_index().to_csv(fname, index=False)\n",
    "    return df"
   ]
  },
  {
   "cell_type": "code",
   "execution_count": 13,
   "id": "contemporary-reproduction",
   "metadata": {},
   "outputs": [],
   "source": [
    "# %% Preprocess & Plot the Data\n",
    "def preprocess_and_plot_data(world, dim):\n",
    "    # NOTE this works iff you're only looking for CSVs.\n",
    "    for file in (DATAPATH / world).glob(\"*.csv\"):\n",
    "        name = (os.path.splitext(file.name)[0])\n",
    "        display(md(f\"## {name}\"))\n",
    "        df = preprocess_df(file)\n",
    "\n",
    "        event_path = DOCSPATH / world / file.stem\n",
    "        event_path.mkdir(parents=True, exist_ok=True)\n",
    "        df = chunk_by_player(event_path, df, name)\n",
    "\n",
    "        if dim == True:\n",
    "            if file.stem == \"PlayerMoveEvent\":\n",
    "                df = get_every(df, 30)\n",
    "            elif file.stem == \"EntityDamageByEntityEvent\":\n",
    "                df = get_every(df, 40)\n",
    "        \n",
    "            fname = str(PLOTSPATH3D / world / name) + \".html\"\n",
    "\n",
    "        else:\n",
    "            if file.stem == \"PlayerMoveEvent\" or file.stem == \"EntityDamageByEntityEvent\":\n",
    "                df = get_every(df, 60)\n",
    "        \n",
    "            fname = str(PLOTSPATH2D / world / name) + \".html\"\n",
    "\n",
    "        fig = df2plot(df, name, dim)\n",
    "            \n",
    "        # Uncomment line below to save plot as HTML\n",
    "        # fig.write_html(fname, full_html=False, include_plotlyjs=\"cdn\")\n",
    "        \n",
    "        # Uncomment line below to display plot\n",
    "        # fig.show()"
   ]
  },
  {
   "cell_type": "markdown",
   "id": "adjusted-phoenix",
   "metadata": {
    "tags": []
   },
   "source": [
    "# 3D Plots\n",
    "\n",
    "For the 3D plots:\n",
    "`preprocess_and_plot_data(world_name, True)`"
   ]
  },
  {
   "cell_type": "markdown",
   "id": "approved-array",
   "metadata": {
    "tags": []
   },
   "source": [
    "## Overworld"
   ]
  },
  {
   "cell_type": "code",
   "execution_count": 14,
   "id": "stunning-stack",
   "metadata": {},
   "outputs": [
    {
     "data": {
      "text/markdown": [
       "## ProjectileHitEvent"
      ],
      "text/plain": [
       "<IPython.core.display.Markdown object>"
      ]
     },
     "metadata": {},
     "output_type": "display_data"
    },
    {
     "data": {
      "text/markdown": [
       "## PlayerQuitEvent"
      ],
      "text/plain": [
       "<IPython.core.display.Markdown object>"
      ]
     },
     "metadata": {},
     "output_type": "display_data"
    },
    {
     "data": {
      "text/markdown": [
       "## PlayerBedLeaveEvent"
      ],
      "text/plain": [
       "<IPython.core.display.Markdown object>"
      ]
     },
     "metadata": {},
     "output_type": "display_data"
    },
    {
     "data": {
      "text/markdown": [
       "## PlayerBedEnterEvent"
      ],
      "text/plain": [
       "<IPython.core.display.Markdown object>"
      ]
     },
     "metadata": {},
     "output_type": "display_data"
    },
    {
     "data": {
      "text/markdown": [
       "## PlayerBucketEmptyEvent"
      ],
      "text/plain": [
       "<IPython.core.display.Markdown object>"
      ]
     },
     "metadata": {},
     "output_type": "display_data"
    },
    {
     "data": {
      "text/markdown": [
       "## PlayerDeathEvent"
      ],
      "text/plain": [
       "<IPython.core.display.Markdown object>"
      ]
     },
     "metadata": {},
     "output_type": "display_data"
    },
    {
     "data": {
      "text/markdown": [
       "## PlayerMoveEvent"
      ],
      "text/plain": [
       "<IPython.core.display.Markdown object>"
      ]
     },
     "metadata": {},
     "output_type": "display_data"
    },
    {
     "data": {
      "text/markdown": [
       "## PlayerBucketFillEvent"
      ],
      "text/plain": [
       "<IPython.core.display.Markdown object>"
      ]
     },
     "metadata": {},
     "output_type": "display_data"
    },
    {
     "data": {
      "text/markdown": [
       "## PlayerDropItemEvent"
      ],
      "text/plain": [
       "<IPython.core.display.Markdown object>"
      ]
     },
     "metadata": {},
     "output_type": "display_data"
    },
    {
     "data": {
      "text/markdown": [
       "## PlayerInteractEvent"
      ],
      "text/plain": [
       "<IPython.core.display.Markdown object>"
      ]
     },
     "metadata": {},
     "output_type": "display_data"
    },
    {
     "data": {
      "text/markdown": [
       "## PlayerLeashEntityEvent"
      ],
      "text/plain": [
       "<IPython.core.display.Markdown object>"
      ]
     },
     "metadata": {},
     "output_type": "display_data"
    },
    {
     "data": {
      "text/markdown": [
       "## PlayerChangedWorldEvent"
      ],
      "text/plain": [
       "<IPython.core.display.Markdown object>"
      ]
     },
     "metadata": {},
     "output_type": "display_data"
    },
    {
     "data": {
      "text/markdown": [
       "## PlayerRespawnEvent"
      ],
      "text/plain": [
       "<IPython.core.display.Markdown object>"
      ]
     },
     "metadata": {},
     "output_type": "display_data"
    },
    {
     "data": {
      "text/markdown": [
       "## EntityDamageByEntityEvent"
      ],
      "text/plain": [
       "<IPython.core.display.Markdown object>"
      ]
     },
     "metadata": {},
     "output_type": "display_data"
    },
    {
     "data": {
      "text/markdown": [
       "## PlayerEggThrowEvent"
      ],
      "text/plain": [
       "<IPython.core.display.Markdown object>"
      ]
     },
     "metadata": {},
     "output_type": "display_data"
    },
    {
     "data": {
      "text/markdown": [
       "## PlayerUnleashEntityEvent"
      ],
      "text/plain": [
       "<IPython.core.display.Markdown object>"
      ]
     },
     "metadata": {},
     "output_type": "display_data"
    },
    {
     "data": {
      "text/markdown": [
       "## BlockPlaceEvent"
      ],
      "text/plain": [
       "<IPython.core.display.Markdown object>"
      ]
     },
     "metadata": {},
     "output_type": "display_data"
    },
    {
     "data": {
      "text/markdown": [
       "## BlockBreakEvent"
      ],
      "text/plain": [
       "<IPython.core.display.Markdown object>"
      ]
     },
     "metadata": {},
     "output_type": "display_data"
    },
    {
     "data": {
      "text/markdown": [
       "## PlayerJoinEvent"
      ],
      "text/plain": [
       "<IPython.core.display.Markdown object>"
      ]
     },
     "metadata": {},
     "output_type": "display_data"
    },
    {
     "data": {
      "text/markdown": [
       "## PlayerShearEntityEvent"
      ],
      "text/plain": [
       "<IPython.core.display.Markdown object>"
      ]
     },
     "metadata": {},
     "output_type": "display_data"
    },
    {
     "data": {
      "text/markdown": [
       "## EnchantItemEvent"
      ],
      "text/plain": [
       "<IPython.core.display.Markdown object>"
      ]
     },
     "metadata": {},
     "output_type": "display_data"
    }
   ],
   "source": [
    "preprocess_and_plot_data(\"overworld\", True)"
   ]
  },
  {
   "cell_type": "markdown",
   "id": "offensive-belly",
   "metadata": {
    "tags": []
   },
   "source": [
    "## Nether"
   ]
  },
  {
   "cell_type": "code",
   "execution_count": 15,
   "id": "sitting-lease",
   "metadata": {
    "scrolled": true,
    "tags": []
   },
   "outputs": [
    {
     "data": {
      "text/markdown": [
       "## ProjectileHitEvent"
      ],
      "text/plain": [
       "<IPython.core.display.Markdown object>"
      ]
     },
     "metadata": {},
     "output_type": "display_data"
    },
    {
     "data": {
      "text/markdown": [
       "## PlayerQuitEvent"
      ],
      "text/plain": [
       "<IPython.core.display.Markdown object>"
      ]
     },
     "metadata": {},
     "output_type": "display_data"
    },
    {
     "data": {
      "text/markdown": [
       "## PlayerBedLeaveEvent"
      ],
      "text/plain": [
       "<IPython.core.display.Markdown object>"
      ]
     },
     "metadata": {},
     "output_type": "display_data"
    },
    {
     "data": {
      "text/markdown": [
       "## PlayerBedEnterEvent"
      ],
      "text/plain": [
       "<IPython.core.display.Markdown object>"
      ]
     },
     "metadata": {},
     "output_type": "display_data"
    },
    {
     "data": {
      "text/markdown": [
       "## PlayerBucketEmptyEvent"
      ],
      "text/plain": [
       "<IPython.core.display.Markdown object>"
      ]
     },
     "metadata": {},
     "output_type": "display_data"
    },
    {
     "data": {
      "text/markdown": [
       "## PlayerDeathEvent"
      ],
      "text/plain": [
       "<IPython.core.display.Markdown object>"
      ]
     },
     "metadata": {},
     "output_type": "display_data"
    },
    {
     "data": {
      "text/markdown": [
       "## PlayerMoveEvent"
      ],
      "text/plain": [
       "<IPython.core.display.Markdown object>"
      ]
     },
     "metadata": {},
     "output_type": "display_data"
    },
    {
     "data": {
      "text/markdown": [
       "## PlayerBucketFillEvent"
      ],
      "text/plain": [
       "<IPython.core.display.Markdown object>"
      ]
     },
     "metadata": {},
     "output_type": "display_data"
    },
    {
     "data": {
      "text/markdown": [
       "## PlayerDropItemEvent"
      ],
      "text/plain": [
       "<IPython.core.display.Markdown object>"
      ]
     },
     "metadata": {},
     "output_type": "display_data"
    },
    {
     "data": {
      "text/markdown": [
       "## PlayerInteractEvent"
      ],
      "text/plain": [
       "<IPython.core.display.Markdown object>"
      ]
     },
     "metadata": {},
     "output_type": "display_data"
    },
    {
     "data": {
      "text/markdown": [
       "## PlayerLeashEntityEvent"
      ],
      "text/plain": [
       "<IPython.core.display.Markdown object>"
      ]
     },
     "metadata": {},
     "output_type": "display_data"
    },
    {
     "data": {
      "text/markdown": [
       "## PlayerChangedWorldEvent"
      ],
      "text/plain": [
       "<IPython.core.display.Markdown object>"
      ]
     },
     "metadata": {},
     "output_type": "display_data"
    },
    {
     "data": {
      "text/markdown": [
       "## PlayerRespawnEvent"
      ],
      "text/plain": [
       "<IPython.core.display.Markdown object>"
      ]
     },
     "metadata": {},
     "output_type": "display_data"
    },
    {
     "data": {
      "text/markdown": [
       "## EntityDamageByEntityEvent"
      ],
      "text/plain": [
       "<IPython.core.display.Markdown object>"
      ]
     },
     "metadata": {},
     "output_type": "display_data"
    },
    {
     "data": {
      "text/markdown": [
       "## PlayerEggThrowEvent"
      ],
      "text/plain": [
       "<IPython.core.display.Markdown object>"
      ]
     },
     "metadata": {},
     "output_type": "display_data"
    },
    {
     "data": {
      "text/markdown": [
       "## PlayerUnleashEntityEvent"
      ],
      "text/plain": [
       "<IPython.core.display.Markdown object>"
      ]
     },
     "metadata": {},
     "output_type": "display_data"
    },
    {
     "data": {
      "text/markdown": [
       "## BlockPlaceEvent"
      ],
      "text/plain": [
       "<IPython.core.display.Markdown object>"
      ]
     },
     "metadata": {},
     "output_type": "display_data"
    },
    {
     "data": {
      "text/markdown": [
       "## BlockBreakEvent"
      ],
      "text/plain": [
       "<IPython.core.display.Markdown object>"
      ]
     },
     "metadata": {},
     "output_type": "display_data"
    },
    {
     "data": {
      "text/markdown": [
       "## PlayerJoinEvent"
      ],
      "text/plain": [
       "<IPython.core.display.Markdown object>"
      ]
     },
     "metadata": {},
     "output_type": "display_data"
    },
    {
     "data": {
      "text/markdown": [
       "## PlayerShearEntityEvent"
      ],
      "text/plain": [
       "<IPython.core.display.Markdown object>"
      ]
     },
     "metadata": {},
     "output_type": "display_data"
    },
    {
     "data": {
      "text/markdown": [
       "## EnchantItemEvent"
      ],
      "text/plain": [
       "<IPython.core.display.Markdown object>"
      ]
     },
     "metadata": {},
     "output_type": "display_data"
    }
   ],
   "source": [
    "preprocess_and_plot_data(\"nether\", True)"
   ]
  },
  {
   "cell_type": "markdown",
   "id": "streaming-bracelet",
   "metadata": {
    "tags": []
   },
   "source": [
    "## End"
   ]
  },
  {
   "cell_type": "code",
   "execution_count": 16,
   "id": "sorted-billion",
   "metadata": {
    "scrolled": true,
    "tags": []
   },
   "outputs": [
    {
     "data": {
      "text/markdown": [
       "## ProjectileHitEvent"
      ],
      "text/plain": [
       "<IPython.core.display.Markdown object>"
      ]
     },
     "metadata": {},
     "output_type": "display_data"
    },
    {
     "data": {
      "text/markdown": [
       "## PlayerQuitEvent"
      ],
      "text/plain": [
       "<IPython.core.display.Markdown object>"
      ]
     },
     "metadata": {},
     "output_type": "display_data"
    },
    {
     "data": {
      "text/markdown": [
       "## PlayerBedLeaveEvent"
      ],
      "text/plain": [
       "<IPython.core.display.Markdown object>"
      ]
     },
     "metadata": {},
     "output_type": "display_data"
    },
    {
     "data": {
      "text/markdown": [
       "## PlayerBedEnterEvent"
      ],
      "text/plain": [
       "<IPython.core.display.Markdown object>"
      ]
     },
     "metadata": {},
     "output_type": "display_data"
    },
    {
     "data": {
      "text/markdown": [
       "## PlayerBucketEmptyEvent"
      ],
      "text/plain": [
       "<IPython.core.display.Markdown object>"
      ]
     },
     "metadata": {},
     "output_type": "display_data"
    },
    {
     "data": {
      "text/markdown": [
       "## PlayerDeathEvent"
      ],
      "text/plain": [
       "<IPython.core.display.Markdown object>"
      ]
     },
     "metadata": {},
     "output_type": "display_data"
    },
    {
     "data": {
      "text/markdown": [
       "## PlayerMoveEvent"
      ],
      "text/plain": [
       "<IPython.core.display.Markdown object>"
      ]
     },
     "metadata": {},
     "output_type": "display_data"
    },
    {
     "data": {
      "text/markdown": [
       "## PlayerBucketFillEvent"
      ],
      "text/plain": [
       "<IPython.core.display.Markdown object>"
      ]
     },
     "metadata": {},
     "output_type": "display_data"
    },
    {
     "data": {
      "text/markdown": [
       "## PlayerDropItemEvent"
      ],
      "text/plain": [
       "<IPython.core.display.Markdown object>"
      ]
     },
     "metadata": {},
     "output_type": "display_data"
    },
    {
     "data": {
      "text/markdown": [
       "## PlayerInteractEvent"
      ],
      "text/plain": [
       "<IPython.core.display.Markdown object>"
      ]
     },
     "metadata": {},
     "output_type": "display_data"
    },
    {
     "data": {
      "text/markdown": [
       "## PlayerLeashEntityEvent"
      ],
      "text/plain": [
       "<IPython.core.display.Markdown object>"
      ]
     },
     "metadata": {},
     "output_type": "display_data"
    },
    {
     "data": {
      "text/markdown": [
       "## PlayerChangedWorldEvent"
      ],
      "text/plain": [
       "<IPython.core.display.Markdown object>"
      ]
     },
     "metadata": {},
     "output_type": "display_data"
    },
    {
     "data": {
      "text/markdown": [
       "## PlayerRespawnEvent"
      ],
      "text/plain": [
       "<IPython.core.display.Markdown object>"
      ]
     },
     "metadata": {},
     "output_type": "display_data"
    },
    {
     "data": {
      "text/markdown": [
       "## EntityDamageByEntityEvent"
      ],
      "text/plain": [
       "<IPython.core.display.Markdown object>"
      ]
     },
     "metadata": {},
     "output_type": "display_data"
    },
    {
     "data": {
      "text/markdown": [
       "## PlayerEggThrowEvent"
      ],
      "text/plain": [
       "<IPython.core.display.Markdown object>"
      ]
     },
     "metadata": {},
     "output_type": "display_data"
    },
    {
     "data": {
      "text/markdown": [
       "## PlayerUnleashEntityEvent"
      ],
      "text/plain": [
       "<IPython.core.display.Markdown object>"
      ]
     },
     "metadata": {},
     "output_type": "display_data"
    },
    {
     "data": {
      "text/markdown": [
       "## BlockPlaceEvent"
      ],
      "text/plain": [
       "<IPython.core.display.Markdown object>"
      ]
     },
     "metadata": {},
     "output_type": "display_data"
    },
    {
     "data": {
      "text/markdown": [
       "## BlockBreakEvent"
      ],
      "text/plain": [
       "<IPython.core.display.Markdown object>"
      ]
     },
     "metadata": {},
     "output_type": "display_data"
    },
    {
     "data": {
      "text/markdown": [
       "## PlayerJoinEvent"
      ],
      "text/plain": [
       "<IPython.core.display.Markdown object>"
      ]
     },
     "metadata": {},
     "output_type": "display_data"
    },
    {
     "data": {
      "text/markdown": [
       "## PlayerShearEntityEvent"
      ],
      "text/plain": [
       "<IPython.core.display.Markdown object>"
      ]
     },
     "metadata": {},
     "output_type": "display_data"
    },
    {
     "data": {
      "text/markdown": [
       "## EnchantItemEvent"
      ],
      "text/plain": [
       "<IPython.core.display.Markdown object>"
      ]
     },
     "metadata": {},
     "output_type": "display_data"
    }
   ],
   "source": [
    "preprocess_and_plot_data(\"end\", True)"
   ]
  },
  {
   "cell_type": "markdown",
   "id": "9a0b5717-e667-46e8-860e-c612a0a252bf",
   "metadata": {},
   "source": [
    "# 2D Plots\n",
    "\n",
    "For the 2D plots:\n",
    "`preprocess_and_plot_data(world_name, False)`"
   ]
  },
  {
   "cell_type": "markdown",
   "id": "e6b44f62-f212-41ff-bdbf-5e2cd384ec00",
   "metadata": {
    "tags": []
   },
   "source": [
    "## Overworld"
   ]
  },
  {
   "cell_type": "code",
   "execution_count": 17,
   "id": "5092f3df-fef1-4bdb-b3f1-327379daecf7",
   "metadata": {},
   "outputs": [
    {
     "data": {
      "text/markdown": [
       "## ProjectileHitEvent"
      ],
      "text/plain": [
       "<IPython.core.display.Markdown object>"
      ]
     },
     "metadata": {},
     "output_type": "display_data"
    },
    {
     "data": {
      "text/markdown": [
       "## PlayerQuitEvent"
      ],
      "text/plain": [
       "<IPython.core.display.Markdown object>"
      ]
     },
     "metadata": {},
     "output_type": "display_data"
    },
    {
     "data": {
      "text/markdown": [
       "## PlayerBedLeaveEvent"
      ],
      "text/plain": [
       "<IPython.core.display.Markdown object>"
      ]
     },
     "metadata": {},
     "output_type": "display_data"
    },
    {
     "data": {
      "text/markdown": [
       "## PlayerBedEnterEvent"
      ],
      "text/plain": [
       "<IPython.core.display.Markdown object>"
      ]
     },
     "metadata": {},
     "output_type": "display_data"
    },
    {
     "data": {
      "text/markdown": [
       "## PlayerBucketEmptyEvent"
      ],
      "text/plain": [
       "<IPython.core.display.Markdown object>"
      ]
     },
     "metadata": {},
     "output_type": "display_data"
    },
    {
     "data": {
      "text/markdown": [
       "## PlayerDeathEvent"
      ],
      "text/plain": [
       "<IPython.core.display.Markdown object>"
      ]
     },
     "metadata": {},
     "output_type": "display_data"
    },
    {
     "data": {
      "text/markdown": [
       "## PlayerMoveEvent"
      ],
      "text/plain": [
       "<IPython.core.display.Markdown object>"
      ]
     },
     "metadata": {},
     "output_type": "display_data"
    },
    {
     "data": {
      "text/markdown": [
       "## PlayerBucketFillEvent"
      ],
      "text/plain": [
       "<IPython.core.display.Markdown object>"
      ]
     },
     "metadata": {},
     "output_type": "display_data"
    },
    {
     "data": {
      "text/markdown": [
       "## PlayerDropItemEvent"
      ],
      "text/plain": [
       "<IPython.core.display.Markdown object>"
      ]
     },
     "metadata": {},
     "output_type": "display_data"
    },
    {
     "data": {
      "text/markdown": [
       "## PlayerInteractEvent"
      ],
      "text/plain": [
       "<IPython.core.display.Markdown object>"
      ]
     },
     "metadata": {},
     "output_type": "display_data"
    },
    {
     "data": {
      "text/markdown": [
       "## PlayerLeashEntityEvent"
      ],
      "text/plain": [
       "<IPython.core.display.Markdown object>"
      ]
     },
     "metadata": {},
     "output_type": "display_data"
    },
    {
     "data": {
      "text/markdown": [
       "## PlayerChangedWorldEvent"
      ],
      "text/plain": [
       "<IPython.core.display.Markdown object>"
      ]
     },
     "metadata": {},
     "output_type": "display_data"
    },
    {
     "data": {
      "text/markdown": [
       "## PlayerRespawnEvent"
      ],
      "text/plain": [
       "<IPython.core.display.Markdown object>"
      ]
     },
     "metadata": {},
     "output_type": "display_data"
    },
    {
     "data": {
      "text/markdown": [
       "## EntityDamageByEntityEvent"
      ],
      "text/plain": [
       "<IPython.core.display.Markdown object>"
      ]
     },
     "metadata": {},
     "output_type": "display_data"
    },
    {
     "data": {
      "text/markdown": [
       "## PlayerEggThrowEvent"
      ],
      "text/plain": [
       "<IPython.core.display.Markdown object>"
      ]
     },
     "metadata": {},
     "output_type": "display_data"
    },
    {
     "data": {
      "text/markdown": [
       "## PlayerUnleashEntityEvent"
      ],
      "text/plain": [
       "<IPython.core.display.Markdown object>"
      ]
     },
     "metadata": {},
     "output_type": "display_data"
    },
    {
     "data": {
      "text/markdown": [
       "## BlockPlaceEvent"
      ],
      "text/plain": [
       "<IPython.core.display.Markdown object>"
      ]
     },
     "metadata": {},
     "output_type": "display_data"
    },
    {
     "data": {
      "text/markdown": [
       "## BlockBreakEvent"
      ],
      "text/plain": [
       "<IPython.core.display.Markdown object>"
      ]
     },
     "metadata": {},
     "output_type": "display_data"
    },
    {
     "data": {
      "text/markdown": [
       "## PlayerJoinEvent"
      ],
      "text/plain": [
       "<IPython.core.display.Markdown object>"
      ]
     },
     "metadata": {},
     "output_type": "display_data"
    },
    {
     "data": {
      "text/markdown": [
       "## PlayerShearEntityEvent"
      ],
      "text/plain": [
       "<IPython.core.display.Markdown object>"
      ]
     },
     "metadata": {},
     "output_type": "display_data"
    },
    {
     "data": {
      "text/markdown": [
       "## EnchantItemEvent"
      ],
      "text/plain": [
       "<IPython.core.display.Markdown object>"
      ]
     },
     "metadata": {},
     "output_type": "display_data"
    }
   ],
   "source": [
    "preprocess_and_plot_data(\"overworld\", False)"
   ]
  },
  {
   "cell_type": "markdown",
   "id": "b4ab4789-281c-4e4f-bc93-7ad9bacd28bd",
   "metadata": {
    "tags": []
   },
   "source": [
    "## Nether"
   ]
  },
  {
   "cell_type": "code",
   "execution_count": 18,
   "id": "ef5fcd7b-80d3-4c72-8fcc-9abcbf8ee1a6",
   "metadata": {},
   "outputs": [
    {
     "data": {
      "text/markdown": [
       "## ProjectileHitEvent"
      ],
      "text/plain": [
       "<IPython.core.display.Markdown object>"
      ]
     },
     "metadata": {},
     "output_type": "display_data"
    },
    {
     "data": {
      "text/markdown": [
       "## PlayerQuitEvent"
      ],
      "text/plain": [
       "<IPython.core.display.Markdown object>"
      ]
     },
     "metadata": {},
     "output_type": "display_data"
    },
    {
     "data": {
      "text/markdown": [
       "## PlayerBedLeaveEvent"
      ],
      "text/plain": [
       "<IPython.core.display.Markdown object>"
      ]
     },
     "metadata": {},
     "output_type": "display_data"
    },
    {
     "data": {
      "text/markdown": [
       "## PlayerBedEnterEvent"
      ],
      "text/plain": [
       "<IPython.core.display.Markdown object>"
      ]
     },
     "metadata": {},
     "output_type": "display_data"
    },
    {
     "data": {
      "text/markdown": [
       "## PlayerBucketEmptyEvent"
      ],
      "text/plain": [
       "<IPython.core.display.Markdown object>"
      ]
     },
     "metadata": {},
     "output_type": "display_data"
    },
    {
     "data": {
      "text/markdown": [
       "## PlayerDeathEvent"
      ],
      "text/plain": [
       "<IPython.core.display.Markdown object>"
      ]
     },
     "metadata": {},
     "output_type": "display_data"
    },
    {
     "data": {
      "text/markdown": [
       "## PlayerMoveEvent"
      ],
      "text/plain": [
       "<IPython.core.display.Markdown object>"
      ]
     },
     "metadata": {},
     "output_type": "display_data"
    },
    {
     "data": {
      "text/markdown": [
       "## PlayerBucketFillEvent"
      ],
      "text/plain": [
       "<IPython.core.display.Markdown object>"
      ]
     },
     "metadata": {},
     "output_type": "display_data"
    },
    {
     "data": {
      "text/markdown": [
       "## PlayerDropItemEvent"
      ],
      "text/plain": [
       "<IPython.core.display.Markdown object>"
      ]
     },
     "metadata": {},
     "output_type": "display_data"
    },
    {
     "data": {
      "text/markdown": [
       "## PlayerInteractEvent"
      ],
      "text/plain": [
       "<IPython.core.display.Markdown object>"
      ]
     },
     "metadata": {},
     "output_type": "display_data"
    },
    {
     "data": {
      "text/markdown": [
       "## PlayerLeashEntityEvent"
      ],
      "text/plain": [
       "<IPython.core.display.Markdown object>"
      ]
     },
     "metadata": {},
     "output_type": "display_data"
    },
    {
     "data": {
      "text/markdown": [
       "## PlayerChangedWorldEvent"
      ],
      "text/plain": [
       "<IPython.core.display.Markdown object>"
      ]
     },
     "metadata": {},
     "output_type": "display_data"
    },
    {
     "data": {
      "text/markdown": [
       "## PlayerRespawnEvent"
      ],
      "text/plain": [
       "<IPython.core.display.Markdown object>"
      ]
     },
     "metadata": {},
     "output_type": "display_data"
    },
    {
     "data": {
      "text/markdown": [
       "## EntityDamageByEntityEvent"
      ],
      "text/plain": [
       "<IPython.core.display.Markdown object>"
      ]
     },
     "metadata": {},
     "output_type": "display_data"
    },
    {
     "data": {
      "text/markdown": [
       "## PlayerEggThrowEvent"
      ],
      "text/plain": [
       "<IPython.core.display.Markdown object>"
      ]
     },
     "metadata": {},
     "output_type": "display_data"
    },
    {
     "data": {
      "text/markdown": [
       "## PlayerUnleashEntityEvent"
      ],
      "text/plain": [
       "<IPython.core.display.Markdown object>"
      ]
     },
     "metadata": {},
     "output_type": "display_data"
    },
    {
     "data": {
      "text/markdown": [
       "## BlockPlaceEvent"
      ],
      "text/plain": [
       "<IPython.core.display.Markdown object>"
      ]
     },
     "metadata": {},
     "output_type": "display_data"
    },
    {
     "data": {
      "text/markdown": [
       "## BlockBreakEvent"
      ],
      "text/plain": [
       "<IPython.core.display.Markdown object>"
      ]
     },
     "metadata": {},
     "output_type": "display_data"
    },
    {
     "data": {
      "text/markdown": [
       "## PlayerJoinEvent"
      ],
      "text/plain": [
       "<IPython.core.display.Markdown object>"
      ]
     },
     "metadata": {},
     "output_type": "display_data"
    },
    {
     "data": {
      "text/markdown": [
       "## PlayerShearEntityEvent"
      ],
      "text/plain": [
       "<IPython.core.display.Markdown object>"
      ]
     },
     "metadata": {},
     "output_type": "display_data"
    },
    {
     "data": {
      "text/markdown": [
       "## EnchantItemEvent"
      ],
      "text/plain": [
       "<IPython.core.display.Markdown object>"
      ]
     },
     "metadata": {},
     "output_type": "display_data"
    }
   ],
   "source": [
    "preprocess_and_plot_data(\"nether\", False)"
   ]
  },
  {
   "cell_type": "markdown",
   "id": "30fd885e-9575-45f8-8a1f-6d18e4373f96",
   "metadata": {
    "tags": []
   },
   "source": [
    "## End"
   ]
  },
  {
   "cell_type": "code",
   "execution_count": 19,
   "id": "286e94cf-6f8c-43bc-8621-144ec4d8e989",
   "metadata": {},
   "outputs": [
    {
     "data": {
      "text/markdown": [
       "## ProjectileHitEvent"
      ],
      "text/plain": [
       "<IPython.core.display.Markdown object>"
      ]
     },
     "metadata": {},
     "output_type": "display_data"
    },
    {
     "data": {
      "text/markdown": [
       "## PlayerQuitEvent"
      ],
      "text/plain": [
       "<IPython.core.display.Markdown object>"
      ]
     },
     "metadata": {},
     "output_type": "display_data"
    },
    {
     "data": {
      "text/markdown": [
       "## PlayerBedLeaveEvent"
      ],
      "text/plain": [
       "<IPython.core.display.Markdown object>"
      ]
     },
     "metadata": {},
     "output_type": "display_data"
    },
    {
     "data": {
      "text/markdown": [
       "## PlayerBedEnterEvent"
      ],
      "text/plain": [
       "<IPython.core.display.Markdown object>"
      ]
     },
     "metadata": {},
     "output_type": "display_data"
    },
    {
     "data": {
      "text/markdown": [
       "## PlayerBucketEmptyEvent"
      ],
      "text/plain": [
       "<IPython.core.display.Markdown object>"
      ]
     },
     "metadata": {},
     "output_type": "display_data"
    },
    {
     "data": {
      "text/markdown": [
       "## PlayerDeathEvent"
      ],
      "text/plain": [
       "<IPython.core.display.Markdown object>"
      ]
     },
     "metadata": {},
     "output_type": "display_data"
    },
    {
     "data": {
      "text/markdown": [
       "## PlayerMoveEvent"
      ],
      "text/plain": [
       "<IPython.core.display.Markdown object>"
      ]
     },
     "metadata": {},
     "output_type": "display_data"
    },
    {
     "data": {
      "text/markdown": [
       "## PlayerBucketFillEvent"
      ],
      "text/plain": [
       "<IPython.core.display.Markdown object>"
      ]
     },
     "metadata": {},
     "output_type": "display_data"
    },
    {
     "data": {
      "text/markdown": [
       "## PlayerDropItemEvent"
      ],
      "text/plain": [
       "<IPython.core.display.Markdown object>"
      ]
     },
     "metadata": {},
     "output_type": "display_data"
    },
    {
     "data": {
      "text/markdown": [
       "## PlayerInteractEvent"
      ],
      "text/plain": [
       "<IPython.core.display.Markdown object>"
      ]
     },
     "metadata": {},
     "output_type": "display_data"
    },
    {
     "data": {
      "text/markdown": [
       "## PlayerLeashEntityEvent"
      ],
      "text/plain": [
       "<IPython.core.display.Markdown object>"
      ]
     },
     "metadata": {},
     "output_type": "display_data"
    },
    {
     "data": {
      "text/markdown": [
       "## PlayerChangedWorldEvent"
      ],
      "text/plain": [
       "<IPython.core.display.Markdown object>"
      ]
     },
     "metadata": {},
     "output_type": "display_data"
    },
    {
     "data": {
      "text/markdown": [
       "## PlayerRespawnEvent"
      ],
      "text/plain": [
       "<IPython.core.display.Markdown object>"
      ]
     },
     "metadata": {},
     "output_type": "display_data"
    },
    {
     "data": {
      "text/markdown": [
       "## EntityDamageByEntityEvent"
      ],
      "text/plain": [
       "<IPython.core.display.Markdown object>"
      ]
     },
     "metadata": {},
     "output_type": "display_data"
    },
    {
     "data": {
      "text/markdown": [
       "## PlayerEggThrowEvent"
      ],
      "text/plain": [
       "<IPython.core.display.Markdown object>"
      ]
     },
     "metadata": {},
     "output_type": "display_data"
    },
    {
     "data": {
      "text/markdown": [
       "## PlayerUnleashEntityEvent"
      ],
      "text/plain": [
       "<IPython.core.display.Markdown object>"
      ]
     },
     "metadata": {},
     "output_type": "display_data"
    },
    {
     "data": {
      "text/markdown": [
       "## BlockPlaceEvent"
      ],
      "text/plain": [
       "<IPython.core.display.Markdown object>"
      ]
     },
     "metadata": {},
     "output_type": "display_data"
    },
    {
     "data": {
      "text/markdown": [
       "## BlockBreakEvent"
      ],
      "text/plain": [
       "<IPython.core.display.Markdown object>"
      ]
     },
     "metadata": {},
     "output_type": "display_data"
    },
    {
     "data": {
      "text/markdown": [
       "## PlayerJoinEvent"
      ],
      "text/plain": [
       "<IPython.core.display.Markdown object>"
      ]
     },
     "metadata": {},
     "output_type": "display_data"
    },
    {
     "data": {
      "text/markdown": [
       "## PlayerShearEntityEvent"
      ],
      "text/plain": [
       "<IPython.core.display.Markdown object>"
      ]
     },
     "metadata": {},
     "output_type": "display_data"
    },
    {
     "data": {
      "text/markdown": [
       "## EnchantItemEvent"
      ],
      "text/plain": [
       "<IPython.core.display.Markdown object>"
      ]
     },
     "metadata": {},
     "output_type": "display_data"
    }
   ],
   "source": [
    "preprocess_and_plot_data(\"end\", False)"
   ]
  },
  {
   "cell_type": "markdown",
   "id": "expired-express",
   "metadata": {},
   "source": [
    "# Qualtrics Pre-Survey"
   ]
  },
  {
   "cell_type": "code",
   "execution_count": null,
   "id": "pointed-estonia",
   "metadata": {},
   "outputs": [],
   "source": [
    "df_q = pd.read_csv(\"../../data/01-qualtrics.csv\")\n",
    "df_q = df_q.drop(columns=['StartDate',\t'EndDate',\t'Status',\t'IPAddress',\t'Progress',\t'Duration (in seconds)',\t'Finished',\t'RecordedDate',\t'ResponseId',\t'RecipientLastName',\t'RecipientFirstName',\t'RecipientEmail',\t'ExternalReference',\t'LocationLatitude',\t'LocationLongitude',\t'DistributionChannel',\t'UserLanguage', 'mc_dim_4_TEXT'])\t"
   ]
  },
  {
   "cell_type": "code",
   "execution_count": null,
   "id": "latest-holder",
   "metadata": {},
   "outputs": [],
   "source": [
    "df_q = df_q.drop(index=[0, 1, 2, 3, 47, 48, 49, 50, 51, 52, 53, 54,55, 58, 59, 60, 62, 63, 64, 65, 66, 67, 68, 69, 70, 71, 90, 106]).reset_index(drop=True)\n",
    "df_q.to_csv(\"../../data/02-qualtrics.csv\", index=False)"
   ]
  },
  {
   "cell_type": "code",
   "execution_count": null,
   "id": "accompanied-karen",
   "metadata": {},
   "outputs": [],
   "source": [
    "df_q = df_q.drop(columns=[\"username\", \"age_check\", \"agree_rules\", \"consent\"]).reset_index(drop=True)\n",
    "df_q = df_q.rename(columns={\"age_1\": \"Age\",\"expertise_1\": \"overall_exp\", \"expertise_2\":\"single_exp\", \"expertise_3\":\"multi_exp\"})"
   ]
  },
  {
   "cell_type": "code",
   "execution_count": null,
   "id": "499df552-1998-4ffb-8376-f4677eebd466",
   "metadata": {},
   "outputs": [],
   "source": [
    "df_act = pd.DataFrame(df_q[\"mc_act\"].str.get_dummies(sep=\",\").T.sum(axis=1))\n",
    "df_act = df_act.rename(columns={0:\"count\"})\n",
    "df_act"
   ]
  },
  {
   "cell_type": "code",
   "execution_count": null,
   "id": "503e1bdb-6e02-47d6-82db-cb2d28409471",
   "metadata": {},
   "outputs": [],
   "source": [
    "df_mode = pd.DataFrame(df_q[\"mc_mode\"].str.get_dummies(sep=\",\").T.sum(axis=1))\n",
    "df_mode = df_mode.rename(columns={0:\"count\"})\n",
    "df_mode"
   ]
  },
  {
   "cell_type": "code",
   "execution_count": null,
   "id": "49787e40-2664-4a1d-be1e-5f034c41bf44",
   "metadata": {},
   "outputs": [],
   "source": [
    "df_lvl = pd.DataFrame(df_q[\"mc_level\"].str.get_dummies(sep=\",\").T.sum(axis=1))\n",
    "df_lvl = df_lvl.rename(columns={0:\"count\"})\n",
    "df_lvl"
   ]
  },
  {
   "cell_type": "code",
   "execution_count": null,
   "id": "8e0dc886-d63f-4695-b54a-1bfff0d81f8a",
   "metadata": {},
   "outputs": [],
   "source": [
    "df_ref = pd.DataFrame(df_q[\"study_ref\"].str.get_dummies(sep=\",\").T.sum(axis=1))\n",
    "df_ref = df_ref.rename(columns={0:\"count\"})\n",
    "df_ref"
   ]
  },
  {
   "cell_type": "code",
   "execution_count": null,
   "id": "0e682bc4-48af-43ff-8945-965586dc1aa0",
   "metadata": {
    "tags": []
   },
   "outputs": [],
   "source": [
    "fig = px.bar(df_act.sort_values(by=\"count\"), x=\"count\", title=\"Minecraft Activities\")\n",
    "fig.write_html(str(PLOTSPATH2D) + \"/mc_act.html\", full_html=False, include_plotlyjs=\"cdn\")\n",
    "fig.show()"
   ]
  },
  {
   "cell_type": "code",
   "execution_count": null,
   "id": "69398433-7e31-4a77-9f8a-1212442703ab",
   "metadata": {},
   "outputs": [],
   "source": [
    "fig = px.bar(df_mode.sort_values(by=\"count\"), x=\"count\", title=\"Minecraft Player Mode\")\n",
    "fig.write_html(str(PLOTSPATH2D) + \"/mc_mode.html\", full_html=False, include_plotlyjs=\"cdn\")\n",
    "fig.show()"
   ]
  },
  {
   "cell_type": "code",
   "execution_count": null,
   "id": "6fa919fb-ceef-4bb9-a188-e0ec5c0cdbcc",
   "metadata": {},
   "outputs": [],
   "source": [
    "fig = px.bar(df_lvl.sort_values(by=\"count\"), x=\"count\", title=\"Minecraft Player Level\")\n",
    "fig.write_html(str(PLOTSPATH2D) + \"/mc_level.html\", full_html=False, include_plotlyjs=\"cdn\")\n",
    "fig.show()"
   ]
  },
  {
   "cell_type": "code",
   "execution_count": null,
   "id": "f55de4ca-6a47-4e4e-884b-03c58f52d1c5",
   "metadata": {},
   "outputs": [],
   "source": [
    "fig = px.bar(df_ref.sort_values(by=\"count\"), x=\"count\", title=\"Minecraft Study Reference\")\n",
    "fig.write_html(str(PLOTSPATH2D) + \"/mc_study_ref.html\", full_html=False, include_plotlyjs=\"cdn\")\n",
    "fig.show()"
   ]
  },
  {
   "cell_type": "code",
   "execution_count": null,
   "id": "edf4a1e3-879a-4c8a-b440-2cee2af9b39e",
   "metadata": {},
   "outputs": [],
   "source": [
    "fig = px.bar(df_q, x=\"Age\", title=\"Player Age\")\n",
    "fig.write_html(str(PLOTSPATH2D) + \"/player_age.html\", full_html=False, include_plotlyjs=\"cdn\")\n",
    "fig.show()"
   ]
  },
  {
   "cell_type": "code",
   "execution_count": null,
   "id": "cd3fecb6",
   "metadata": {},
   "outputs": [],
   "source": [
    "df_exp = df_q[[\"overall_exp\", \"single_exp\", \"multi_exp\"]].melt(var_name=\"type\", value_name=\"level\")\n",
    "df_exp = df_exp.replace({\"overall_exp\": \"Overall\", \"single_exp\": \"Singleplayer\", \"multi_exp\": \"Multiplayer\"})\n",
    "\n",
    "fig = px.bar(df_exp.sort_values(by=\"level\"), x=\"level\", barmode=\"group\",color=\"type\",title=\"Player Experience\")\n",
    "fig.write_html(str(PLOTSPATH2D) + \"/player_exp.html\", full_html=False, include_plotlyjs=\"cdn\")\n",
    "fig.show()"
   ]
  },
  {
   "cell_type": "code",
   "execution_count": null,
   "id": "capable-amendment",
   "metadata": {},
   "outputs": [],
   "source": [
    "df_q.to_csv(\"../../public/data/01-qualtrics.csv\", index=False)"
   ]
  }
 ],
 "metadata": {
  "kernelspec": {
   "display_name": "Python 3 (ipykernel)",
   "language": "python",
   "name": "python3"
  },
  "language_info": {
   "codemirror_mode": {
    "name": "ipython",
    "version": 3
   },
   "file_extension": ".py",
   "mimetype": "text/x-python",
   "name": "python",
   "nbconvert_exporter": "python",
   "pygments_lexer": "ipython3",
   "version": "3.9.7"
  }
 },
 "nbformat": 4,
 "nbformat_minor": 5
}
