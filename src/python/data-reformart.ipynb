{
 "cells": [
  {
   "cell_type": "code",
   "execution_count": 1,
   "id": "verbal-gateway",
   "metadata": {},
   "outputs": [],
   "source": [
    "import os\n",
    "import pandas as pd\n",
    "import numpy as np\n",
    "from pathlib import Path\n",
    "import fnmatch\n",
    "from IPython.display import Markdown as md\n",
    "import plotly.graph_objects as go\n",
    "import plotly.express as px\n",
    "import math\n",
    "import random\n",
    "from dask import dataframe as dd\n",
    "import pickle"
   ]
  },
  {
   "cell_type": "code",
   "execution_count": 2,
   "id": "modern-blackberry",
   "metadata": {},
   "outputs": [],
   "source": [
    "pd.options.display.max_columns = 200\n",
    "pd.options.display.max_rows = 200\n",
    "pd.set_option(\"display.max_colwidth\", None)"
   ]
  },
  {
   "cell_type": "code",
   "execution_count": 3,
   "id": "recognized-thumbnail",
   "metadata": {},
   "outputs": [],
   "source": [
    "DATAPATH = Path('../../data/')\n",
    "DOCSPATH = Path('../../docs/data/')\n",
    "PLOTSPATH3D = Path('../../docs/plots/3d/')\n",
    "PLOTSPATH2D = Path('../../docs/plots/2d/')"
   ]
  },
  {
   "cell_type": "code",
   "execution_count": 4,
   "id": "identified-conclusion",
   "metadata": {},
   "outputs": [],
   "source": [
    "# Using Dask's DataFrames to glob all the event CSVs in `datapath`\n",
    "\n",
    "ddf = dd.read_csv(f\"{DATAPATH}/overworld/*.csv\")[\"player\"].unique().compute()\n",
    "# Swapping the index/data values so that when `dict(...)` is run we get entries like:\n",
    "#   \"<hash>\": <index>,\n",
    "ddf = pd.DataFrame({\"player\": ddf.values, \"pindex\": ddf.index.values})\n",
    "# ddf.to_csv(DATAPATH / \"platerindex.csv\", index=False)\n",
    "\n",
    "playerindex = {player: pindex for (player, pindex) in zip(ddf[\"player\"], ddf[\"pindex\"])}\n",
    "\n",
    "# NOTE then you can do something like...\n",
    "#     player2index = dict(pd.read_csv(datapath / \"playerindex.csv\"))\n",
    "#   and you'll have a dictionary that does the correct remapping\n",
    "\n",
    "get_colors = lambda n: list(map(lambda i: \"#\" + \"%06x\" % random.randint(0, 0xFFFFFF),range(n)))\n",
    "colors = get_colors(ddf.player.size)"
   ]
  },
  {
   "cell_type": "code",
   "execution_count": 5,
   "id": "0454f4f2-a40d-4aab-90f1-1f189a9b4d69",
   "metadata": {},
   "outputs": [],
   "source": [
    "def get_every_20(df):\n",
    "    return df.loc[df.index % 20 == 0]"
   ]
  },
  {
   "cell_type": "code",
   "execution_count": 6,
   "id": "single-locator",
   "metadata": {},
   "outputs": [],
   "source": [
    "def get_every_30(df):\n",
    "    return df.loc[df.index % 30 == 0]"
   ]
  },
  {
   "cell_type": "code",
   "execution_count": 7,
   "id": "statewide-holly",
   "metadata": {},
   "outputs": [],
   "source": [
    "def get_every_40(df):\n",
    "    return df.loc[df.index % 40 == 0]"
   ]
  },
  {
   "cell_type": "code",
   "execution_count": 43,
   "id": "62c128f4",
   "metadata": {},
   "outputs": [],
   "source": [
    "def stringify_attrs(row, cols: dict) -> str:\n",
    "    return \"\\n\".join([f\"{title}: {row[col]}\" for col, title in cols.items()])\n",
    "\n",
    "def make_metadata(group, event_name):\n",
    "    if event_name in [\"PlayerChangedWorldEvent\", \"PlayerDeathEvent\", \"PlayerRespawnEvent\", \"PlayerEggThrowEvent\", \"PlayerQuitEvent\", \"PlayerJoinEvent\", \"PlayerShearEntityEvent\"]:\n",
    "        return group[\"day\"].apply(lambda day: f\"Day {day}\")\n",
    "    elif event_name in [\"BlockPlaceEvent\", \"BlockBreakEvent\"]:\n",
    "        cols = {\"day\": \"Day\", \"block\": \"Block\"}\n",
    "        return group[cols].apply(lambda row: stringify_attrs(row, cols), axis=1).values.tolist()\n",
    "    elif event_name in [\"PlayerBucketFillEvent\", \"PlayerBucketEmptyEvent\"]:\n",
    "        cols = {\"day\": \"Day\", \"contents\": \"Bucket Contents\"}\n",
    "        return group[cols].apply(lambda row: stringify_attrs(row, cols), axis=1).values.tolist()\n",
    "    elif event_name in [\"PlayerLeashEntityEvent\", \"PlayerUnleashEntityEvent\"]:\n",
    "        cols = {\"day\": \"Day\", \"entity\": \"Entity\"}\n",
    "        return group[cols].apply(lambda row: stringify_attrs(row, cols), axis=1).values.tolist()\n",
    "    elif event_name  == \"EntityDamageByEntityEvent\":\n",
    "        cols = {\"day\": \"Day\", \"damaged\": \"Damaged\", \"cause\": \"Cause\", \"weapon\": \"Weapon Used\"}\n",
    "        return group[cols].apply(lambda row: stringify_attrs(row, cols), axis=1).values.tolist()\n",
    "    elif event_name == \"PlayerDropItemEvent\":\n",
    "        cols = {\"day\": \"Day\", \"itemDrop\": \"Item Dropped\"}\n",
    "        return group[cols].apply(lambda row: stringify_attrs(row, cols), axis=1).values.tolist()\n",
    "        # day and itemDrop\n",
    "    elif event_name == \"PlayerInteractEvent\":\n",
    "        cols = {\"day\": \"Day\", \"itemHeld\": \"Item Held\", \"action\": \"Action\"}\n",
    "        return group[cols].apply(lambda row: stringify_attrs(row, cols), axis=1).values.tolist()\n",
    "    elif event_name == \"ProjectileHitEvent\":\n",
    "        cols = {\"day\": \"Day\", \"weapon\": \"Weapon Used\", \"target\": \"Target\"}\n",
    "        return group[cols].apply(lambda row: stringify_attrs(row, cols), axis=1).values.tolist()"
   ]
  },
  {
   "cell_type": "code",
   "execution_count": 29,
   "id": "invalid-chain",
   "metadata": {},
   "outputs": [],
   "source": [
    "# %% Convert a Player into a Scatter3D trace\n",
    "def player2trace3d(player, group, event_name):\n",
    "    scatter = go.Scatter3d(\n",
    "        mode=\"markers\",\n",
    "        x=group[\"x\"], y=group[\"z\"], z=group[\"y\"],\n",
    "        marker={\"size\": 3, \"color\": colors[player], \"opacity\": 0.8},\n",
    "        name=f\"Player {player}\",\n",
    "        text= make_metadata(group, event_name),\n",
    "    )\n",
    "    return scatter"
   ]
  },
  {
   "cell_type": "code",
   "execution_count": 10,
   "id": "dc3947e4-675a-4cd7-95f9-73115a36e5d5",
   "metadata": {},
   "outputs": [],
   "source": [
    "# %% Convert a Player into a Scatter3D trace\n",
    "def player2trace2d(player, group, event_name):\n",
    "    scatter = go.Scatter(\n",
    "        mode=\"markers\",\n",
    "        x=group[\"x\"], y=group[\"z\"],\n",
    "        marker={\"size\": 3, \"color\": colors[player], \"opacity\": 0.8},\n",
    "        name=f\"Player {player}\",\n",
    "        text= make_metadata(group, event_name),\n",
    "    )\n",
    "    return scatter"
   ]
  },
  {
   "cell_type": "code",
   "execution_count": 11,
   "id": "gothic-idaho",
   "metadata": {},
   "outputs": [],
   "source": [
    "# %% Convert a DataFrame into a Plot\n",
    "def df2plot3d(df, name):\n",
    "    traces = []\n",
    "    # For every player in the dataframe, convert them into a plotly trace\n",
    "    for (player, group) in df.groupby(\"pindex\"):\n",
    "        traces += [player2trace3d(player, group, name)]\n",
    "\n",
    "    fig = go.Figure(data=traces)\n",
    "    fig.update_layout({\n",
    "        \"title\": {\"text\": name},\n",
    "        \"width\": 900, \"height\": 900,\n",
    "    })\n",
    "    return fig"
   ]
  },
  {
   "cell_type": "code",
   "execution_count": 12,
   "id": "3551a4bd-612b-41f8-bc55-2c0dfdfc734c",
   "metadata": {},
   "outputs": [],
   "source": [
    "# %% Convert a DataFrame into a Plot\n",
    "def df2plot2d(df, name):\n",
    "    traces = []\n",
    "    # For every player in the dataframe, convert them into a plotly trace\n",
    "    for (player, group) in df.groupby(\"pindex\"):\n",
    "        traces += [player2trace2d(player, group, name)]\n",
    "\n",
    "    fig = go.Figure(data=traces)\n",
    "    fig.update_layout({\n",
    "        \"title\": {\"text\": name},\n",
    "        \"width\": 900, \"height\": 900,\n",
    "    })\n",
    "    return fig"
   ]
  },
  {
   "cell_type": "code",
   "execution_count": 13,
   "id": "rational-investigator",
   "metadata": {},
   "outputs": [],
   "source": [
    "# %% Preprocess the DataFrame\n",
    "def preprocess_df(file):\n",
    "    df = pd.read_csv(file)\n",
    "    # Use the Player Index created by Dask (above) to do the mappings\n",
    "    # player2index = dict(pd.read_csv(DATAPATH / \"playerindex.csv\"))\n",
    "    df[\"pindex\"] = df[\"player\"].replace(playerindex)\n",
    "\n",
    "    df = df.rename(columns={\n",
    "        \"location.x\": \"x\", \"location.y\": \"y\", \"location.z\": \"z\",\n",
    "        \"worldTime\": \"time\",\n",
    "    })\n",
    "\n",
    "    df[\"day\"] = np.floor((df[\"time\"] / 1728000)).astype(int)\n",
    "    # df.to_csv(file.parent / f\"{file.stem}-preprocessed.csv\", index=False)\n",
    "    return df"
   ]
  },
  {
   "cell_type": "code",
   "execution_count": 14,
   "id": "stuck-modification",
   "metadata": {},
   "outputs": [],
   "source": [
    "# %% Chunk events by Players\n",
    "def chunk_by_player(event_path, df, name):\n",
    "    for (player, group) in df.groupby(\"pindex\"):\n",
    "        fname = event_path / f\"{player}_{name}.csv\"\n",
    "        group.reset_index().to_csv(fname, index=False)\n",
    "\n",
    "    return df"
   ]
  },
  {
   "cell_type": "code",
   "execution_count": 44,
   "id": "contemporary-reproduction",
   "metadata": {},
   "outputs": [],
   "source": [
    "# %% Preprocess & Plot the Data\n",
    "def preprocess_and_plot_data_3d(world):\n",
    "    # NOTE this works iff you're only looking for CSVs.\n",
    "    for file in (DATAPATH / world).glob(\"*.csv\"):\n",
    "        name = (os.path.splitext(file.name)[0])\n",
    "        display(md(f\"## {name}\"))\n",
    "        df = preprocess_df(file)\n",
    "\n",
    "        event_path = DOCSPATH / world / file.stem\n",
    "        event_path.mkdir(parents=True, exist_ok=True)\n",
    "        df = chunk_by_player(event_path, df, name)\n",
    "\n",
    "        # skip_plot = [\"PlayerMoveEvent\", \"EntityDamageByEntityEvent\"]\n",
    "        if file.stem == \"PlayerMoveEvent\":\n",
    "            df = get_every_30(df)\n",
    "        elif file.stem == \"EntityDamageByEntityEvent\":\n",
    "            df = get_every_40(df)\n",
    "\n",
    "\n",
    "        fig = df2plot3d(df, name)\n",
    "        fig.write_html(str(PLOTSPATH3D / world / name) + \".html\", full_html=False, include_plotlyjs=\"cdn\")\n",
    "        # fig.show()"
   ]
  },
  {
   "cell_type": "code",
   "execution_count": 45,
   "id": "4f9e9fa6-5036-4871-8bda-63967825a6ce",
   "metadata": {},
   "outputs": [],
   "source": [
    "# %% Preprocess & Plot the Data\n",
    "def preprocess_and_plot_data_2d(world):\n",
    "    # NOTE this works iff you're only looking for CSVs.\n",
    "    for file in (DATAPATH / world).glob(\"*.csv\"):\n",
    "        name = (os.path.splitext(file.name)[0])\n",
    "        display(md(f\"## {name}\"))\n",
    "        df = preprocess_df(file)\n",
    "\n",
    "        event_path = DOCSPATH / world / file.stem\n",
    "        event_path.mkdir(parents=True, exist_ok=True)\n",
    "        df = chunk_by_player(event_path, df, name)\n",
    "\n",
    "        # skip_plot = [\"PlayerMoveEvent\", \"EntityDamageByEntityEvent\"]\n",
    "        if file.stem == \"PlayerMoveEvent\":\n",
    "            df = get_every_40(df)\n",
    "        elif file.stem == \"EntityDamageByEntityEvent\":\n",
    "            df = get_every_40(df)\n",
    "\n",
    "\n",
    "        fig = df2plot2d(df, name)\n",
    "        fig.write_html(str(PLOTSPATH2D / world / name) + \".html\", full_html=False, include_plotlyjs=\"cdn\")\n",
    "        # fig.show()"
   ]
  },
  {
   "cell_type": "markdown",
   "id": "adjusted-phoenix",
   "metadata": {
    "tags": []
   },
   "source": [
    "# 3D Plots"
   ]
  },
  {
   "cell_type": "markdown",
   "id": "approved-array",
   "metadata": {
    "tags": []
   },
   "source": [
    "## Overworld"
   ]
  },
  {
   "cell_type": "code",
   "execution_count": 46,
   "id": "stunning-stack",
   "metadata": {
    "scrolled": true,
    "tags": []
   },
   "outputs": [
    {
     "data": {
      "text/markdown": [
       "## ProjectileHitEvent"
      ],
      "text/plain": [
       "<IPython.core.display.Markdown object>"
      ]
     },
     "metadata": {},
     "output_type": "display_data"
    },
    {
     "data": {
      "text/markdown": [
       "## PlayerQuitEvent"
      ],
      "text/plain": [
       "<IPython.core.display.Markdown object>"
      ]
     },
     "metadata": {},
     "output_type": "display_data"
    },
    {
     "data": {
      "text/markdown": [
       "## PlayerBedLeaveEvent"
      ],
      "text/plain": [
       "<IPython.core.display.Markdown object>"
      ]
     },
     "metadata": {},
     "output_type": "display_data"
    },
    {
     "data": {
      "text/markdown": [
       "## PlayerBedEnterEvent"
      ],
      "text/plain": [
       "<IPython.core.display.Markdown object>"
      ]
     },
     "metadata": {},
     "output_type": "display_data"
    },
    {
     "data": {
      "text/markdown": [
       "## PlayerBucketEmptyEvent"
      ],
      "text/plain": [
       "<IPython.core.display.Markdown object>"
      ]
     },
     "metadata": {},
     "output_type": "display_data"
    },
    {
     "data": {
      "text/markdown": [
       "## PlayerDeathEvent"
      ],
      "text/plain": [
       "<IPython.core.display.Markdown object>"
      ]
     },
     "metadata": {},
     "output_type": "display_data"
    },
    {
     "data": {
      "text/markdown": [
       "## PlayerMoveEvent"
      ],
      "text/plain": [
       "<IPython.core.display.Markdown object>"
      ]
     },
     "metadata": {},
     "output_type": "display_data"
    },
    {
     "data": {
      "text/markdown": [
       "## PlayerBucketFillEvent"
      ],
      "text/plain": [
       "<IPython.core.display.Markdown object>"
      ]
     },
     "metadata": {},
     "output_type": "display_data"
    },
    {
     "data": {
      "text/markdown": [
       "## PlayerDropItemEvent"
      ],
      "text/plain": [
       "<IPython.core.display.Markdown object>"
      ]
     },
     "metadata": {},
     "output_type": "display_data"
    },
    {
     "data": {
      "text/markdown": [
       "## PlayerInteractEvent"
      ],
      "text/plain": [
       "<IPython.core.display.Markdown object>"
      ]
     },
     "metadata": {},
     "output_type": "display_data"
    },
    {
     "data": {
      "text/markdown": [
       "## PlayerLeashEntityEvent"
      ],
      "text/plain": [
       "<IPython.core.display.Markdown object>"
      ]
     },
     "metadata": {},
     "output_type": "display_data"
    },
    {
     "data": {
      "text/markdown": [
       "## PlayerChangedWorldEvent"
      ],
      "text/plain": [
       "<IPython.core.display.Markdown object>"
      ]
     },
     "metadata": {},
     "output_type": "display_data"
    },
    {
     "data": {
      "text/markdown": [
       "## PlayerRespawnEvent"
      ],
      "text/plain": [
       "<IPython.core.display.Markdown object>"
      ]
     },
     "metadata": {},
     "output_type": "display_data"
    },
    {
     "data": {
      "text/markdown": [
       "## EntityDamageByEntityEvent"
      ],
      "text/plain": [
       "<IPython.core.display.Markdown object>"
      ]
     },
     "metadata": {},
     "output_type": "display_data"
    },
    {
     "data": {
      "text/markdown": [
       "## PlayerEggThrowEvent"
      ],
      "text/plain": [
       "<IPython.core.display.Markdown object>"
      ]
     },
     "metadata": {},
     "output_type": "display_data"
    },
    {
     "data": {
      "text/markdown": [
       "## PlayerUnleashEntityEvent"
      ],
      "text/plain": [
       "<IPython.core.display.Markdown object>"
      ]
     },
     "metadata": {},
     "output_type": "display_data"
    },
    {
     "data": {
      "text/markdown": [
       "## BlockPlaceEvent"
      ],
      "text/plain": [
       "<IPython.core.display.Markdown object>"
      ]
     },
     "metadata": {},
     "output_type": "display_data"
    },
    {
     "data": {
      "text/markdown": [
       "## BlockBreakEvent"
      ],
      "text/plain": [
       "<IPython.core.display.Markdown object>"
      ]
     },
     "metadata": {},
     "output_type": "display_data"
    },
    {
     "data": {
      "text/markdown": [
       "## PlayerJoinEvent"
      ],
      "text/plain": [
       "<IPython.core.display.Markdown object>"
      ]
     },
     "metadata": {},
     "output_type": "display_data"
    },
    {
     "data": {
      "text/markdown": [
       "## PlayerShearEntityEvent"
      ],
      "text/plain": [
       "<IPython.core.display.Markdown object>"
      ]
     },
     "metadata": {},
     "output_type": "display_data"
    },
    {
     "data": {
      "text/markdown": [
       "## EnchantItemEvent"
      ],
      "text/plain": [
       "<IPython.core.display.Markdown object>"
      ]
     },
     "metadata": {},
     "output_type": "display_data"
    }
   ],
   "source": [
    "preprocess_and_plot_data_3d(\"overworld\")"
   ]
  },
  {
   "cell_type": "markdown",
   "id": "offensive-belly",
   "metadata": {
    "tags": []
   },
   "source": [
    "## Nether"
   ]
  },
  {
   "cell_type": "code",
   "execution_count": 47,
   "id": "sitting-lease",
   "metadata": {
    "scrolled": true,
    "tags": []
   },
   "outputs": [
    {
     "data": {
      "text/markdown": [
       "## ProjectileHitEvent"
      ],
      "text/plain": [
       "<IPython.core.display.Markdown object>"
      ]
     },
     "metadata": {},
     "output_type": "display_data"
    },
    {
     "data": {
      "text/markdown": [
       "## PlayerQuitEvent"
      ],
      "text/plain": [
       "<IPython.core.display.Markdown object>"
      ]
     },
     "metadata": {},
     "output_type": "display_data"
    },
    {
     "data": {
      "text/markdown": [
       "## PlayerBedLeaveEvent"
      ],
      "text/plain": [
       "<IPython.core.display.Markdown object>"
      ]
     },
     "metadata": {},
     "output_type": "display_data"
    },
    {
     "data": {
      "text/markdown": [
       "## PlayerBedEnterEvent"
      ],
      "text/plain": [
       "<IPython.core.display.Markdown object>"
      ]
     },
     "metadata": {},
     "output_type": "display_data"
    },
    {
     "data": {
      "text/markdown": [
       "## PlayerBucketEmptyEvent"
      ],
      "text/plain": [
       "<IPython.core.display.Markdown object>"
      ]
     },
     "metadata": {},
     "output_type": "display_data"
    },
    {
     "data": {
      "text/markdown": [
       "## PlayerDeathEvent"
      ],
      "text/plain": [
       "<IPython.core.display.Markdown object>"
      ]
     },
     "metadata": {},
     "output_type": "display_data"
    },
    {
     "data": {
      "text/markdown": [
       "## PlayerMoveEvent"
      ],
      "text/plain": [
       "<IPython.core.display.Markdown object>"
      ]
     },
     "metadata": {},
     "output_type": "display_data"
    },
    {
     "data": {
      "text/markdown": [
       "## PlayerBucketFillEvent"
      ],
      "text/plain": [
       "<IPython.core.display.Markdown object>"
      ]
     },
     "metadata": {},
     "output_type": "display_data"
    },
    {
     "data": {
      "text/markdown": [
       "## PlayerDropItemEvent"
      ],
      "text/plain": [
       "<IPython.core.display.Markdown object>"
      ]
     },
     "metadata": {},
     "output_type": "display_data"
    },
    {
     "data": {
      "text/markdown": [
       "## PlayerInteractEvent"
      ],
      "text/plain": [
       "<IPython.core.display.Markdown object>"
      ]
     },
     "metadata": {},
     "output_type": "display_data"
    },
    {
     "data": {
      "text/markdown": [
       "## PlayerLeashEntityEvent"
      ],
      "text/plain": [
       "<IPython.core.display.Markdown object>"
      ]
     },
     "metadata": {},
     "output_type": "display_data"
    },
    {
     "data": {
      "text/markdown": [
       "## PlayerChangedWorldEvent"
      ],
      "text/plain": [
       "<IPython.core.display.Markdown object>"
      ]
     },
     "metadata": {},
     "output_type": "display_data"
    },
    {
     "data": {
      "text/markdown": [
       "## PlayerRespawnEvent"
      ],
      "text/plain": [
       "<IPython.core.display.Markdown object>"
      ]
     },
     "metadata": {},
     "output_type": "display_data"
    },
    {
     "data": {
      "text/markdown": [
       "## EntityDamageByEntityEvent"
      ],
      "text/plain": [
       "<IPython.core.display.Markdown object>"
      ]
     },
     "metadata": {},
     "output_type": "display_data"
    },
    {
     "data": {
      "text/markdown": [
       "## PlayerEggThrowEvent"
      ],
      "text/plain": [
       "<IPython.core.display.Markdown object>"
      ]
     },
     "metadata": {},
     "output_type": "display_data"
    },
    {
     "data": {
      "text/markdown": [
       "## PlayerUnleashEntityEvent"
      ],
      "text/plain": [
       "<IPython.core.display.Markdown object>"
      ]
     },
     "metadata": {},
     "output_type": "display_data"
    },
    {
     "data": {
      "text/markdown": [
       "## BlockPlaceEvent"
      ],
      "text/plain": [
       "<IPython.core.display.Markdown object>"
      ]
     },
     "metadata": {},
     "output_type": "display_data"
    },
    {
     "data": {
      "text/markdown": [
       "## BlockBreakEvent"
      ],
      "text/plain": [
       "<IPython.core.display.Markdown object>"
      ]
     },
     "metadata": {},
     "output_type": "display_data"
    },
    {
     "data": {
      "text/markdown": [
       "## PlayerJoinEvent"
      ],
      "text/plain": [
       "<IPython.core.display.Markdown object>"
      ]
     },
     "metadata": {},
     "output_type": "display_data"
    },
    {
     "data": {
      "text/markdown": [
       "## PlayerShearEntityEvent"
      ],
      "text/plain": [
       "<IPython.core.display.Markdown object>"
      ]
     },
     "metadata": {},
     "output_type": "display_data"
    },
    {
     "data": {
      "text/markdown": [
       "## EnchantItemEvent"
      ],
      "text/plain": [
       "<IPython.core.display.Markdown object>"
      ]
     },
     "metadata": {},
     "output_type": "display_data"
    }
   ],
   "source": [
    "preprocess_and_plot_data_3d(\"nether\")"
   ]
  },
  {
   "cell_type": "markdown",
   "id": "streaming-bracelet",
   "metadata": {
    "tags": []
   },
   "source": [
    "## End"
   ]
  },
  {
   "cell_type": "code",
   "execution_count": 48,
   "id": "sorted-billion",
   "metadata": {
    "scrolled": true,
    "tags": []
   },
   "outputs": [
    {
     "data": {
      "text/markdown": [
       "## ProjectileHitEvent"
      ],
      "text/plain": [
       "<IPython.core.display.Markdown object>"
      ]
     },
     "metadata": {},
     "output_type": "display_data"
    },
    {
     "data": {
      "text/markdown": [
       "## PlayerQuitEvent"
      ],
      "text/plain": [
       "<IPython.core.display.Markdown object>"
      ]
     },
     "metadata": {},
     "output_type": "display_data"
    },
    {
     "data": {
      "text/markdown": [
       "## PlayerBedLeaveEvent"
      ],
      "text/plain": [
       "<IPython.core.display.Markdown object>"
      ]
     },
     "metadata": {},
     "output_type": "display_data"
    },
    {
     "data": {
      "text/markdown": [
       "## PlayerBedEnterEvent"
      ],
      "text/plain": [
       "<IPython.core.display.Markdown object>"
      ]
     },
     "metadata": {},
     "output_type": "display_data"
    },
    {
     "data": {
      "text/markdown": [
       "## PlayerBucketEmptyEvent"
      ],
      "text/plain": [
       "<IPython.core.display.Markdown object>"
      ]
     },
     "metadata": {},
     "output_type": "display_data"
    },
    {
     "data": {
      "text/markdown": [
       "## PlayerDeathEvent"
      ],
      "text/plain": [
       "<IPython.core.display.Markdown object>"
      ]
     },
     "metadata": {},
     "output_type": "display_data"
    },
    {
     "data": {
      "text/markdown": [
       "## PlayerMoveEvent"
      ],
      "text/plain": [
       "<IPython.core.display.Markdown object>"
      ]
     },
     "metadata": {},
     "output_type": "display_data"
    },
    {
     "data": {
      "text/markdown": [
       "## PlayerBucketFillEvent"
      ],
      "text/plain": [
       "<IPython.core.display.Markdown object>"
      ]
     },
     "metadata": {},
     "output_type": "display_data"
    },
    {
     "data": {
      "text/markdown": [
       "## PlayerDropItemEvent"
      ],
      "text/plain": [
       "<IPython.core.display.Markdown object>"
      ]
     },
     "metadata": {},
     "output_type": "display_data"
    },
    {
     "data": {
      "text/markdown": [
       "## PlayerInteractEvent"
      ],
      "text/plain": [
       "<IPython.core.display.Markdown object>"
      ]
     },
     "metadata": {},
     "output_type": "display_data"
    },
    {
     "data": {
      "text/markdown": [
       "## PlayerLeashEntityEvent"
      ],
      "text/plain": [
       "<IPython.core.display.Markdown object>"
      ]
     },
     "metadata": {},
     "output_type": "display_data"
    },
    {
     "data": {
      "text/markdown": [
       "## PlayerChangedWorldEvent"
      ],
      "text/plain": [
       "<IPython.core.display.Markdown object>"
      ]
     },
     "metadata": {},
     "output_type": "display_data"
    },
    {
     "data": {
      "text/markdown": [
       "## PlayerRespawnEvent"
      ],
      "text/plain": [
       "<IPython.core.display.Markdown object>"
      ]
     },
     "metadata": {},
     "output_type": "display_data"
    },
    {
     "data": {
      "text/markdown": [
       "## EntityDamageByEntityEvent"
      ],
      "text/plain": [
       "<IPython.core.display.Markdown object>"
      ]
     },
     "metadata": {},
     "output_type": "display_data"
    },
    {
     "data": {
      "text/markdown": [
       "## PlayerEggThrowEvent"
      ],
      "text/plain": [
       "<IPython.core.display.Markdown object>"
      ]
     },
     "metadata": {},
     "output_type": "display_data"
    },
    {
     "data": {
      "text/markdown": [
       "## PlayerUnleashEntityEvent"
      ],
      "text/plain": [
       "<IPython.core.display.Markdown object>"
      ]
     },
     "metadata": {},
     "output_type": "display_data"
    },
    {
     "data": {
      "text/markdown": [
       "## BlockPlaceEvent"
      ],
      "text/plain": [
       "<IPython.core.display.Markdown object>"
      ]
     },
     "metadata": {},
     "output_type": "display_data"
    },
    {
     "data": {
      "text/markdown": [
       "## BlockBreakEvent"
      ],
      "text/plain": [
       "<IPython.core.display.Markdown object>"
      ]
     },
     "metadata": {},
     "output_type": "display_data"
    },
    {
     "data": {
      "text/markdown": [
       "## PlayerJoinEvent"
      ],
      "text/plain": [
       "<IPython.core.display.Markdown object>"
      ]
     },
     "metadata": {},
     "output_type": "display_data"
    },
    {
     "data": {
      "text/markdown": [
       "## PlayerShearEntityEvent"
      ],
      "text/plain": [
       "<IPython.core.display.Markdown object>"
      ]
     },
     "metadata": {},
     "output_type": "display_data"
    },
    {
     "data": {
      "text/markdown": [
       "## EnchantItemEvent"
      ],
      "text/plain": [
       "<IPython.core.display.Markdown object>"
      ]
     },
     "metadata": {},
     "output_type": "display_data"
    }
   ],
   "source": [
    "# random_color = make_random_color()\n",
    "preprocess_and_plot_data_3d(\"end\")"
   ]
  },
  {
   "cell_type": "markdown",
   "id": "9a0b5717-e667-46e8-860e-c612a0a252bf",
   "metadata": {},
   "source": [
    "# 2D Plots"
   ]
  },
  {
   "cell_type": "markdown",
   "id": "e6b44f62-f212-41ff-bdbf-5e2cd384ec00",
   "metadata": {
    "tags": []
   },
   "source": [
    "## Overworld"
   ]
  },
  {
   "cell_type": "code",
   "execution_count": 49,
   "id": "5092f3df-fef1-4bdb-b3f1-327379daecf7",
   "metadata": {},
   "outputs": [
    {
     "data": {
      "text/markdown": [
       "## ProjectileHitEvent"
      ],
      "text/plain": [
       "<IPython.core.display.Markdown object>"
      ]
     },
     "metadata": {},
     "output_type": "display_data"
    },
    {
     "data": {
      "text/markdown": [
       "## PlayerQuitEvent"
      ],
      "text/plain": [
       "<IPython.core.display.Markdown object>"
      ]
     },
     "metadata": {},
     "output_type": "display_data"
    },
    {
     "data": {
      "text/markdown": [
       "## PlayerBedLeaveEvent"
      ],
      "text/plain": [
       "<IPython.core.display.Markdown object>"
      ]
     },
     "metadata": {},
     "output_type": "display_data"
    },
    {
     "data": {
      "text/markdown": [
       "## PlayerBedEnterEvent"
      ],
      "text/plain": [
       "<IPython.core.display.Markdown object>"
      ]
     },
     "metadata": {},
     "output_type": "display_data"
    },
    {
     "data": {
      "text/markdown": [
       "## PlayerBucketEmptyEvent"
      ],
      "text/plain": [
       "<IPython.core.display.Markdown object>"
      ]
     },
     "metadata": {},
     "output_type": "display_data"
    },
    {
     "data": {
      "text/markdown": [
       "## PlayerDeathEvent"
      ],
      "text/plain": [
       "<IPython.core.display.Markdown object>"
      ]
     },
     "metadata": {},
     "output_type": "display_data"
    },
    {
     "data": {
      "text/markdown": [
       "## PlayerMoveEvent"
      ],
      "text/plain": [
       "<IPython.core.display.Markdown object>"
      ]
     },
     "metadata": {},
     "output_type": "display_data"
    },
    {
     "data": {
      "text/markdown": [
       "## PlayerBucketFillEvent"
      ],
      "text/plain": [
       "<IPython.core.display.Markdown object>"
      ]
     },
     "metadata": {},
     "output_type": "display_data"
    },
    {
     "data": {
      "text/markdown": [
       "## PlayerDropItemEvent"
      ],
      "text/plain": [
       "<IPython.core.display.Markdown object>"
      ]
     },
     "metadata": {},
     "output_type": "display_data"
    },
    {
     "data": {
      "text/markdown": [
       "## PlayerInteractEvent"
      ],
      "text/plain": [
       "<IPython.core.display.Markdown object>"
      ]
     },
     "metadata": {},
     "output_type": "display_data"
    },
    {
     "data": {
      "text/markdown": [
       "## PlayerLeashEntityEvent"
      ],
      "text/plain": [
       "<IPython.core.display.Markdown object>"
      ]
     },
     "metadata": {},
     "output_type": "display_data"
    },
    {
     "data": {
      "text/markdown": [
       "## PlayerChangedWorldEvent"
      ],
      "text/plain": [
       "<IPython.core.display.Markdown object>"
      ]
     },
     "metadata": {},
     "output_type": "display_data"
    },
    {
     "data": {
      "text/markdown": [
       "## PlayerRespawnEvent"
      ],
      "text/plain": [
       "<IPython.core.display.Markdown object>"
      ]
     },
     "metadata": {},
     "output_type": "display_data"
    },
    {
     "data": {
      "text/markdown": [
       "## EntityDamageByEntityEvent"
      ],
      "text/plain": [
       "<IPython.core.display.Markdown object>"
      ]
     },
     "metadata": {},
     "output_type": "display_data"
    },
    {
     "data": {
      "text/markdown": [
       "## PlayerEggThrowEvent"
      ],
      "text/plain": [
       "<IPython.core.display.Markdown object>"
      ]
     },
     "metadata": {},
     "output_type": "display_data"
    },
    {
     "data": {
      "text/markdown": [
       "## PlayerUnleashEntityEvent"
      ],
      "text/plain": [
       "<IPython.core.display.Markdown object>"
      ]
     },
     "metadata": {},
     "output_type": "display_data"
    },
    {
     "data": {
      "text/markdown": [
       "## BlockPlaceEvent"
      ],
      "text/plain": [
       "<IPython.core.display.Markdown object>"
      ]
     },
     "metadata": {},
     "output_type": "display_data"
    },
    {
     "data": {
      "text/markdown": [
       "## BlockBreakEvent"
      ],
      "text/plain": [
       "<IPython.core.display.Markdown object>"
      ]
     },
     "metadata": {},
     "output_type": "display_data"
    },
    {
     "data": {
      "text/markdown": [
       "## PlayerJoinEvent"
      ],
      "text/plain": [
       "<IPython.core.display.Markdown object>"
      ]
     },
     "metadata": {},
     "output_type": "display_data"
    },
    {
     "data": {
      "text/markdown": [
       "## PlayerShearEntityEvent"
      ],
      "text/plain": [
       "<IPython.core.display.Markdown object>"
      ]
     },
     "metadata": {},
     "output_type": "display_data"
    },
    {
     "data": {
      "text/markdown": [
       "## EnchantItemEvent"
      ],
      "text/plain": [
       "<IPython.core.display.Markdown object>"
      ]
     },
     "metadata": {},
     "output_type": "display_data"
    }
   ],
   "source": [
    "preprocess_and_plot_data_2d(\"overworld\")"
   ]
  },
  {
   "cell_type": "markdown",
   "id": "b4ab4789-281c-4e4f-bc93-7ad9bacd28bd",
   "metadata": {
    "tags": []
   },
   "source": [
    "## Nether"
   ]
  },
  {
   "cell_type": "code",
   "execution_count": 50,
   "id": "ef5fcd7b-80d3-4c72-8fcc-9abcbf8ee1a6",
   "metadata": {},
   "outputs": [
    {
     "data": {
      "text/markdown": [
       "## ProjectileHitEvent"
      ],
      "text/plain": [
       "<IPython.core.display.Markdown object>"
      ]
     },
     "metadata": {},
     "output_type": "display_data"
    },
    {
     "data": {
      "text/markdown": [
       "## PlayerQuitEvent"
      ],
      "text/plain": [
       "<IPython.core.display.Markdown object>"
      ]
     },
     "metadata": {},
     "output_type": "display_data"
    },
    {
     "data": {
      "text/markdown": [
       "## PlayerBedLeaveEvent"
      ],
      "text/plain": [
       "<IPython.core.display.Markdown object>"
      ]
     },
     "metadata": {},
     "output_type": "display_data"
    },
    {
     "data": {
      "text/markdown": [
       "## PlayerBedEnterEvent"
      ],
      "text/plain": [
       "<IPython.core.display.Markdown object>"
      ]
     },
     "metadata": {},
     "output_type": "display_data"
    },
    {
     "data": {
      "text/markdown": [
       "## PlayerBucketEmptyEvent"
      ],
      "text/plain": [
       "<IPython.core.display.Markdown object>"
      ]
     },
     "metadata": {},
     "output_type": "display_data"
    },
    {
     "data": {
      "text/markdown": [
       "## PlayerDeathEvent"
      ],
      "text/plain": [
       "<IPython.core.display.Markdown object>"
      ]
     },
     "metadata": {},
     "output_type": "display_data"
    },
    {
     "data": {
      "text/markdown": [
       "## PlayerMoveEvent"
      ],
      "text/plain": [
       "<IPython.core.display.Markdown object>"
      ]
     },
     "metadata": {},
     "output_type": "display_data"
    },
    {
     "data": {
      "text/markdown": [
       "## PlayerBucketFillEvent"
      ],
      "text/plain": [
       "<IPython.core.display.Markdown object>"
      ]
     },
     "metadata": {},
     "output_type": "display_data"
    },
    {
     "data": {
      "text/markdown": [
       "## PlayerDropItemEvent"
      ],
      "text/plain": [
       "<IPython.core.display.Markdown object>"
      ]
     },
     "metadata": {},
     "output_type": "display_data"
    },
    {
     "data": {
      "text/markdown": [
       "## PlayerInteractEvent"
      ],
      "text/plain": [
       "<IPython.core.display.Markdown object>"
      ]
     },
     "metadata": {},
     "output_type": "display_data"
    },
    {
     "data": {
      "text/markdown": [
       "## PlayerLeashEntityEvent"
      ],
      "text/plain": [
       "<IPython.core.display.Markdown object>"
      ]
     },
     "metadata": {},
     "output_type": "display_data"
    },
    {
     "data": {
      "text/markdown": [
       "## PlayerChangedWorldEvent"
      ],
      "text/plain": [
       "<IPython.core.display.Markdown object>"
      ]
     },
     "metadata": {},
     "output_type": "display_data"
    },
    {
     "data": {
      "text/markdown": [
       "## PlayerRespawnEvent"
      ],
      "text/plain": [
       "<IPython.core.display.Markdown object>"
      ]
     },
     "metadata": {},
     "output_type": "display_data"
    },
    {
     "data": {
      "text/markdown": [
       "## EntityDamageByEntityEvent"
      ],
      "text/plain": [
       "<IPython.core.display.Markdown object>"
      ]
     },
     "metadata": {},
     "output_type": "display_data"
    },
    {
     "data": {
      "text/markdown": [
       "## PlayerEggThrowEvent"
      ],
      "text/plain": [
       "<IPython.core.display.Markdown object>"
      ]
     },
     "metadata": {},
     "output_type": "display_data"
    },
    {
     "data": {
      "text/markdown": [
       "## PlayerUnleashEntityEvent"
      ],
      "text/plain": [
       "<IPython.core.display.Markdown object>"
      ]
     },
     "metadata": {},
     "output_type": "display_data"
    },
    {
     "data": {
      "text/markdown": [
       "## BlockPlaceEvent"
      ],
      "text/plain": [
       "<IPython.core.display.Markdown object>"
      ]
     },
     "metadata": {},
     "output_type": "display_data"
    },
    {
     "data": {
      "text/markdown": [
       "## BlockBreakEvent"
      ],
      "text/plain": [
       "<IPython.core.display.Markdown object>"
      ]
     },
     "metadata": {},
     "output_type": "display_data"
    },
    {
     "data": {
      "text/markdown": [
       "## PlayerJoinEvent"
      ],
      "text/plain": [
       "<IPython.core.display.Markdown object>"
      ]
     },
     "metadata": {},
     "output_type": "display_data"
    },
    {
     "data": {
      "text/markdown": [
       "## PlayerShearEntityEvent"
      ],
      "text/plain": [
       "<IPython.core.display.Markdown object>"
      ]
     },
     "metadata": {},
     "output_type": "display_data"
    },
    {
     "data": {
      "text/markdown": [
       "## EnchantItemEvent"
      ],
      "text/plain": [
       "<IPython.core.display.Markdown object>"
      ]
     },
     "metadata": {},
     "output_type": "display_data"
    }
   ],
   "source": [
    "preprocess_and_plot_data_2d(\"nether\")"
   ]
  },
  {
   "cell_type": "markdown",
   "id": "30fd885e-9575-45f8-8a1f-6d18e4373f96",
   "metadata": {
    "tags": []
   },
   "source": [
    "## End"
   ]
  },
  {
   "cell_type": "code",
   "execution_count": 51,
   "id": "286e94cf-6f8c-43bc-8621-144ec4d8e989",
   "metadata": {},
   "outputs": [
    {
     "data": {
      "text/markdown": [
       "## ProjectileHitEvent"
      ],
      "text/plain": [
       "<IPython.core.display.Markdown object>"
      ]
     },
     "metadata": {},
     "output_type": "display_data"
    },
    {
     "data": {
      "text/markdown": [
       "## PlayerQuitEvent"
      ],
      "text/plain": [
       "<IPython.core.display.Markdown object>"
      ]
     },
     "metadata": {},
     "output_type": "display_data"
    },
    {
     "data": {
      "text/markdown": [
       "## PlayerBedLeaveEvent"
      ],
      "text/plain": [
       "<IPython.core.display.Markdown object>"
      ]
     },
     "metadata": {},
     "output_type": "display_data"
    },
    {
     "data": {
      "text/markdown": [
       "## PlayerBedEnterEvent"
      ],
      "text/plain": [
       "<IPython.core.display.Markdown object>"
      ]
     },
     "metadata": {},
     "output_type": "display_data"
    },
    {
     "data": {
      "text/markdown": [
       "## PlayerBucketEmptyEvent"
      ],
      "text/plain": [
       "<IPython.core.display.Markdown object>"
      ]
     },
     "metadata": {},
     "output_type": "display_data"
    },
    {
     "data": {
      "text/markdown": [
       "## PlayerDeathEvent"
      ],
      "text/plain": [
       "<IPython.core.display.Markdown object>"
      ]
     },
     "metadata": {},
     "output_type": "display_data"
    },
    {
     "data": {
      "text/markdown": [
       "## PlayerMoveEvent"
      ],
      "text/plain": [
       "<IPython.core.display.Markdown object>"
      ]
     },
     "metadata": {},
     "output_type": "display_data"
    },
    {
     "data": {
      "text/markdown": [
       "## PlayerBucketFillEvent"
      ],
      "text/plain": [
       "<IPython.core.display.Markdown object>"
      ]
     },
     "metadata": {},
     "output_type": "display_data"
    },
    {
     "data": {
      "text/markdown": [
       "## PlayerDropItemEvent"
      ],
      "text/plain": [
       "<IPython.core.display.Markdown object>"
      ]
     },
     "metadata": {},
     "output_type": "display_data"
    },
    {
     "data": {
      "text/markdown": [
       "## PlayerInteractEvent"
      ],
      "text/plain": [
       "<IPython.core.display.Markdown object>"
      ]
     },
     "metadata": {},
     "output_type": "display_data"
    },
    {
     "data": {
      "text/markdown": [
       "## PlayerLeashEntityEvent"
      ],
      "text/plain": [
       "<IPython.core.display.Markdown object>"
      ]
     },
     "metadata": {},
     "output_type": "display_data"
    },
    {
     "data": {
      "text/markdown": [
       "## PlayerChangedWorldEvent"
      ],
      "text/plain": [
       "<IPython.core.display.Markdown object>"
      ]
     },
     "metadata": {},
     "output_type": "display_data"
    },
    {
     "data": {
      "text/markdown": [
       "## PlayerRespawnEvent"
      ],
      "text/plain": [
       "<IPython.core.display.Markdown object>"
      ]
     },
     "metadata": {},
     "output_type": "display_data"
    },
    {
     "data": {
      "text/markdown": [
       "## EntityDamageByEntityEvent"
      ],
      "text/plain": [
       "<IPython.core.display.Markdown object>"
      ]
     },
     "metadata": {},
     "output_type": "display_data"
    },
    {
     "data": {
      "text/markdown": [
       "## PlayerEggThrowEvent"
      ],
      "text/plain": [
       "<IPython.core.display.Markdown object>"
      ]
     },
     "metadata": {},
     "output_type": "display_data"
    },
    {
     "data": {
      "text/markdown": [
       "## PlayerUnleashEntityEvent"
      ],
      "text/plain": [
       "<IPython.core.display.Markdown object>"
      ]
     },
     "metadata": {},
     "output_type": "display_data"
    },
    {
     "data": {
      "text/markdown": [
       "## BlockPlaceEvent"
      ],
      "text/plain": [
       "<IPython.core.display.Markdown object>"
      ]
     },
     "metadata": {},
     "output_type": "display_data"
    },
    {
     "data": {
      "text/markdown": [
       "## BlockBreakEvent"
      ],
      "text/plain": [
       "<IPython.core.display.Markdown object>"
      ]
     },
     "metadata": {},
     "output_type": "display_data"
    },
    {
     "data": {
      "text/markdown": [
       "## PlayerJoinEvent"
      ],
      "text/plain": [
       "<IPython.core.display.Markdown object>"
      ]
     },
     "metadata": {},
     "output_type": "display_data"
    },
    {
     "data": {
      "text/markdown": [
       "## PlayerShearEntityEvent"
      ],
      "text/plain": [
       "<IPython.core.display.Markdown object>"
      ]
     },
     "metadata": {},
     "output_type": "display_data"
    },
    {
     "data": {
      "text/markdown": [
       "## EnchantItemEvent"
      ],
      "text/plain": [
       "<IPython.core.display.Markdown object>"
      ]
     },
     "metadata": {},
     "output_type": "display_data"
    }
   ],
   "source": [
    "preprocess_and_plot_data_2d(\"end\")"
   ]
  },
  {
   "cell_type": "markdown",
   "id": "expired-express",
   "metadata": {},
   "source": [
    "# Qualtrics Pre-Survey"
   ]
  },
  {
   "cell_type": "code",
   "execution_count": null,
   "id": "pointed-estonia",
   "metadata": {},
   "outputs": [],
   "source": [
    "df_q = pd.read_csv(\"../../data/01-qualtrics.csv\")\n",
    "df_q = df_q.drop(columns=['StartDate',\t'EndDate',\t'Status',\t'IPAddress',\t'Progress',\t'Duration (in seconds)',\t'Finished',\t'RecordedDate',\t'ResponseId',\t'RecipientLastName',\t'RecipientFirstName',\t'RecipientEmail',\t'ExternalReference',\t'LocationLatitude',\t'LocationLongitude',\t'DistributionChannel',\t'UserLanguage', 'mc_dim_4_TEXT'])\t"
   ]
  },
  {
   "cell_type": "code",
   "execution_count": null,
   "id": "latest-holder",
   "metadata": {},
   "outputs": [],
   "source": [
    "df_q = df_q.drop(index=[0, 1, 2, 3, 47, 48, 49, 50, 51, 52, 53, 54,55, 58, 59, 60, 62, 63, 64, 65, 66, 67, 68, 69, 70, 71, 90, 106]).reset_index(drop=True)\n",
    "df_q.to_csv(\"../../data/02-qualtrics.csv\", index=False)"
   ]
  },
  {
   "cell_type": "code",
   "execution_count": null,
   "id": "accompanied-karen",
   "metadata": {},
   "outputs": [],
   "source": [
    "df_q = df_q.drop(columns=[\"username\", \"age_check\", \"agree_rules\", \"consent\"]).reset_index(drop=True)\n",
    "df_q = df_q.rename(columns={\"age_1\": \"Age\",\"expertise_1\": \"overall_exp\", \"expertise_2\":\"single_exp\", \"expertise_3\":\"multi_exp\"})"
   ]
  },
  {
   "cell_type": "code",
   "execution_count": null,
   "id": "499df552-1998-4ffb-8376-f4677eebd466",
   "metadata": {},
   "outputs": [],
   "source": [
    "df_act = pd.DataFrame(df_q[\"mc_act\"].str.get_dummies(sep=\",\").T.sum(axis=1))\n",
    "df_act = df_act.rename(columns={0:\"count\"})\n",
    "df_act"
   ]
  },
  {
   "cell_type": "code",
   "execution_count": null,
   "id": "503e1bdb-6e02-47d6-82db-cb2d28409471",
   "metadata": {},
   "outputs": [],
   "source": [
    "df_mode = pd.DataFrame(df_q[\"mc_mode\"].str.get_dummies(sep=\",\").T.sum(axis=1))\n",
    "df_mode = df_mode.rename(columns={0:\"count\"})\n",
    "df_mode"
   ]
  },
  {
   "cell_type": "code",
   "execution_count": null,
   "id": "49787e40-2664-4a1d-be1e-5f034c41bf44",
   "metadata": {},
   "outputs": [],
   "source": [
    "df_lvl = pd.DataFrame(df_q[\"mc_level\"].str.get_dummies(sep=\",\").T.sum(axis=1))\n",
    "df_lvl = df_lvl.rename(columns={0:\"count\"})\n",
    "df_lvl"
   ]
  },
  {
   "cell_type": "code",
   "execution_count": null,
   "id": "8e0dc886-d63f-4695-b54a-1bfff0d81f8a",
   "metadata": {},
   "outputs": [],
   "source": [
    "df_ref = pd.DataFrame(df_q[\"study_ref\"].str.get_dummies(sep=\",\").T.sum(axis=1))\n",
    "df_ref = df_ref.rename(columns={0:\"count\"})\n",
    "df_ref"
   ]
  },
  {
   "cell_type": "code",
   "execution_count": null,
   "id": "0e682bc4-48af-43ff-8945-965586dc1aa0",
   "metadata": {
    "tags": []
   },
   "outputs": [],
   "source": [
    "fig = px.bar(df_act.sort_values(by=\"count\"), x=\"count\", title=\"Minecraft Activities\")\n",
    "fig.write_html(str(PLOTSPATH2D) + \"/mc_act.html\", full_html=False, include_plotlyjs=\"cdn\")\n",
    "fig.show()"
   ]
  },
  {
   "cell_type": "code",
   "execution_count": null,
   "id": "69398433-7e31-4a77-9f8a-1212442703ab",
   "metadata": {},
   "outputs": [],
   "source": [
    "fig = px.bar(df_mode.sort_values(by=\"count\"), x=\"count\", title=\"Minecraft Player Mode\")\n",
    "fig.write_html(str(PLOTSPATH2D) + \"/mc_mode.html\", full_html=False, include_plotlyjs=\"cdn\")\n",
    "fig.show()"
   ]
  },
  {
   "cell_type": "code",
   "execution_count": null,
   "id": "6fa919fb-ceef-4bb9-a188-e0ec5c0cdbcc",
   "metadata": {},
   "outputs": [],
   "source": [
    "fig = px.bar(df_lvl.sort_values(by=\"count\"), x=\"count\", title=\"Minecraft Player Level\")\n",
    "fig.write_html(str(PLOTSPATH2D) + \"/mc_level.html\", full_html=False, include_plotlyjs=\"cdn\")\n",
    "fig.show()"
   ]
  },
  {
   "cell_type": "code",
   "execution_count": null,
   "id": "f55de4ca-6a47-4e4e-884b-03c58f52d1c5",
   "metadata": {},
   "outputs": [],
   "source": [
    "fig = px.bar(df_ref.sort_values(by=\"count\"), x=\"count\", title=\"Minecraft Study Reference\")\n",
    "fig.write_html(str(PLOTSPATH2D) + \"/mc_study_ref.html\", full_html=False, include_plotlyjs=\"cdn\")\n",
    "fig.show()"
   ]
  },
  {
   "cell_type": "code",
   "execution_count": null,
   "id": "edf4a1e3-879a-4c8a-b440-2cee2af9b39e",
   "metadata": {},
   "outputs": [],
   "source": [
    "fig = px.bar(df_q, x=\"Age\", title=\"Player Age\")\n",
    "fig.write_html(str(PLOTSPATH2D) + \"/player_age.html\", full_html=False, include_plotlyjs=\"cdn\")\n",
    "fig.show()"
   ]
  },
  {
   "cell_type": "code",
   "execution_count": null,
   "id": "cd3fecb6",
   "metadata": {},
   "outputs": [],
   "source": [
    "df_exp = df_q[[\"overall_exp\", \"single_exp\", \"multi_exp\"]].melt(var_name=\"type\", value_name=\"level\")\n",
    "df_exp = df_exp.replace({\"overall_exp\": \"Overall\", \"single_exp\": \"Singleplayer\", \"multi_exp\": \"Multiplayer\"})\n",
    "\n",
    "fig = px.bar(df_exp.sort_values(by=\"level\"), x=\"level\", barmode=\"group\",color=\"type\",title=\"Player Experience\")\n",
    "fig.write_html(str(PLOTSPATH2D) + \"/player_exp.html\", full_html=False, include_plotlyjs=\"cdn\")\n",
    "fig.show()"
   ]
  },
  {
   "cell_type": "code",
   "execution_count": null,
   "id": "capable-amendment",
   "metadata": {},
   "outputs": [],
   "source": [
    "df_q.to_csv(\"../../public/data/01-qualtrics.csv\", index=False)"
   ]
  },
  {
   "cell_type": "markdown",
   "id": "d2274657-0316-4b93-bfdf-bc4fc2d8c61b",
   "metadata": {
    "jp-MarkdownHeadingCollapsed": true,
    "tags": []
   },
   "source": [
    "# Old Code"
   ]
  },
  {
   "cell_type": "code",
   "execution_count": null,
   "id": "built-vacuum",
   "metadata": {},
   "outputs": [],
   "source": [
    "# def list_to_dic(lst):\n",
    "#     index = [i for i in range(len(lst))]\n",
    "#     zipped = list(zip(lst,index))\n",
    "#     ret = {zipped[i][0]: zipped[i][1] for i in range(len(zipped))}\n",
    "#     return ret"
   ]
  },
  {
   "cell_type": "code",
   "execution_count": null,
   "id": "simplified-sector",
   "metadata": {},
   "outputs": [],
   "source": [
    "# def process_data(world):\n",
    "#     basepath = '../../data/'\n",
    "#     datapath = '../../docs/data/'\n",
    "    \n",
    "#     with os.scandir(basepath + world) as entries:\n",
    "#         for entry in entries:\n",
    "#             if entry.is_file():\n",
    "#                 event_file = entry.name\n",
    "#                 event_name = (os.path.splitext(entry.name)[0])\n",
    "\n",
    "#                 event_df = pd.read_csv(basepath + world + event_file)\n",
    "#                 event_df.drop(columns=['event'], inplace=True)\n",
    "                \n",
    "#                 unique_players = list(event_df['player'].unique())\n",
    "#                 player_mapping = list_to_dic(unique_players)\n",
    "#                 event_df['player'] = event_df['player'].map(player_mapping)\n",
    "#                 unique_players = list(event_df['player'].unique())\n",
    "\n",
    "#                 event_df.rename(columns={'location.x': 'x', 'location.y': 'y', 'location.z': 'z', 'worldTime': 'time'}, inplace=True)\n",
    "#                 event_df['mc_day'] = (event_df['time'] / 24000).astype(int)\n",
    "#                 display(md(f'## {event_name}'))\n",
    "#                 # display(event_df)\n",
    "\n",
    "#                 path = Path(datapath + world + event_name + '/')\n",
    "#                 path.mkdir(exist_ok=True)\n",
    "                \n",
    "\n",
    "#                 if fnmatch.fnmatch(event_file, 'PlayerMoveEvent.csv') or fnmatch.fnmatch(event_file, 'EntityDamageByEntityEvent.csv'):\n",
    "#                     make_csv_large(event_df, unique_players, datapath + world + event_name + '/', event_name)\n",
    "#                 else:\n",
    "#                     make_csv_small(event_df, unique_players, datapath + world + event_name + '/', event_name)\n",
    "#                     # players_ls = make_ls_players(event_df, unique_players)\n",
    "#                     # plot = make_player_plots(players_ls, color)\n",
    "#                     # plot.show()\n",
    "                "
   ]
  },
  {
   "cell_type": "code",
   "execution_count": null,
   "id": "bound-potato",
   "metadata": {},
   "outputs": [],
   "source": [
    "# def make_csv_large(event_df, players, path, event_name):\n",
    "#     for player in players:\n",
    "#         df = event_df[event_df['player'] == player]\n",
    "\n",
    "#         df = df[df.index % 20 == 0]\n",
    "\n",
    "#         filename = path + str(player) + '_' + event_name + '.csv'\n",
    "#         df.to_csv(filename, index=False)"
   ]
  },
  {
   "cell_type": "code",
   "execution_count": null,
   "id": "eastern-yemen",
   "metadata": {},
   "outputs": [],
   "source": [
    "# def make_csv_small(event_df, players, path, event_name):\n",
    "#     for player in players:\n",
    "#         df = event_df[event_df['player'] == player]\n",
    "\n",
    "#         filename = path + str(player) + '_' + event_name + '.csv'\n",
    "#         df.to_csv(filename, index=False)"
   ]
  },
  {
   "cell_type": "code",
   "execution_count": null,
   "id": "needed-server",
   "metadata": {},
   "outputs": [],
   "source": [
    "# def make_ls_players(event_df, players):\n",
    "#     players_ls = []\n",
    "\n",
    "#     for player in players:\n",
    "#         df = event_df[event_df['player'] == player]\n",
    "#         players_ls.append(df)\n",
    "        \n",
    "#     return players_ls"
   ]
  },
  {
   "cell_type": "code",
   "execution_count": null,
   "id": "mounted-buddy",
   "metadata": {},
   "outputs": [],
   "source": [
    "# def make_player_plots(players, random_color):\n",
    "#     data = []\n",
    "    \n",
    "#     for df in players:\n",
    "#         scatter = go.Scatter3d(\n",
    "#             mode='markers',\n",
    "#             x=df[\"x\"], y=df[\"z\"], z=df[\"y\"],\n",
    "#             name = 'Player' + df,\n",
    "#             marker={\n",
    "#                 \"size\": 3,\n",
    "#                 \"color\": random_color, \n",
    "#                 # \"colorscale\": \"Rainbow\",\n",
    "#                 \"opacity\": 0.8\n",
    "#             },\n",
    "#             # line=dict(\n",
    "#             #     color='darkblue',\n",
    "#             #     width=2\n",
    "#             # ),\n",
    "#             # text = [df for _ in range(len(df))]\n",
    "#         )\n",
    "#         data.append(scatter)\n",
    "#     fig = go.Figure(data=data)\n",
    "#     fig.update_layout(width=600, height=400)\n",
    "# #     fig.show()\n",
    "#     return fig"
   ]
  },
  {
   "cell_type": "code",
   "execution_count": null,
   "id": "endangered-price",
   "metadata": {},
   "outputs": [],
   "source": [
    "# def make_random_color():\n",
    "#     random_color = []\n",
    "    \n",
    "#     for i in range(0, 40): \n",
    "#         r = str(math.floor(random.randrange(0, 256)))\n",
    "#         g = str(math.floor(random.randrange(0, 256)))\n",
    "#         b = str(math.floor(random.randrange(0, 256)))\n",
    "#         random_color.append('rgb(' + r + ',' + g + ',' + b +')')\n",
    "        \n",
    "#     return random_color"
   ]
  },
  {
   "cell_type": "code",
   "execution_count": null,
   "id": "circular-revelation",
   "metadata": {},
   "outputs": [],
   "source": [
    "# import plotly.graph_objects as go\n",
    "# import plotly.express as px"
   ]
  },
  {
   "cell_type": "code",
   "execution_count": null,
   "id": "willing-litigation",
   "metadata": {
    "scrolled": true,
    "tags": []
   },
   "outputs": [],
   "source": [
    "# def get_data(world, event):\n",
    "#     event_file = '../../data/' + world + '/' + event + '.csv'\n",
    "#     event_df = pd.read_csv(event_file)\n",
    "#     display(event_df)\n",
    "    \n",
    "#     # drop unnecessary columns\n",
    "#     event_df.drop(columns=['_id','event'], inplace=True)\n",
    "#     display(event_df)\n",
    "    \n",
    "#     unique_players = list(event_df['player'].unique())\n",
    "#     print(unique_players)\n",
    "    \n",
    "#     player_mapping = list_to_dic(unique_players)\n",
    "    \n",
    "#     event_df['player'] = event_df['player'].map(player_mapping)\n",
    "    \n",
    "#     unique_players = list(event_df['player'].unique())\n",
    "#     print(unique_players)\n",
    "    \n",
    "#     event_df.rename(columns={'location.x': 'x', 'location.y': 'y', 'location.z': 'z', 'worldTime': 'time'}, inplace=True)\n",
    "    \n",
    "#     return (event_df, unique_players)\n",
    "\n",
    "# def make_csv_plots(move, players, world, folder):\n",
    "#     for player in players:\n",
    "#         # df = move[move['player'] == player]\n",
    "#         # print('BEFORE: ' + str(len(df)))\n",
    "#         #drop all odd numbered rows\n",
    "#     #     drop_i = [i for i in list(range(len(df))) if i % 2 == 1]\n",
    "#     #     df.drop(drop_i, inplace=True)\n",
    "#         df = move[move.index % 20 == 0]\n",
    "#         # print('AFTER: ', str(len(df)))\n",
    "\n",
    "#     filepath = '../../docs/data/' + world + \"/\" + folder + \"/\"\n",
    "#     filename = filepath + 'plot' + '_' + folder + '.csv'\n",
    "#     df.to_csv(filename, index=False)\n",
    "#     # return df\n",
    "    "
   ]
  },
  {
   "cell_type": "code",
   "execution_count": null,
   "id": "affiliated-senior",
   "metadata": {
    "scrolled": true,
    "tags": []
   },
   "outputs": [],
   "source": [
    "# (df, unique_players) = get_data('overworld', 'PlayerMoveEvent')\n",
    "# make_csv_plots(df, unique_players, 'overworld', 'move')"
   ]
  },
  {
   "cell_type": "code",
   "execution_count": null,
   "id": "c6e45a44-eec2-41c8-9e36-a56ea6da3c68",
   "metadata": {},
   "outputs": [],
   "source": []
  }
 ],
 "metadata": {
  "kernelspec": {
   "display_name": "Python 3 (ipykernel)",
   "language": "python",
   "name": "python3"
  },
  "language_info": {
   "codemirror_mode": {
    "name": "ipython",
    "version": 3
   },
   "file_extension": ".py",
   "mimetype": "text/x-python",
   "name": "python",
   "nbconvert_exporter": "python",
   "pygments_lexer": "ipython3",
   "version": "3.9.7"
  }
 },
 "nbformat": 4,
 "nbformat_minor": 5
}
