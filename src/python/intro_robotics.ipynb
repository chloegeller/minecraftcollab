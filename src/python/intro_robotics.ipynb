{
 "cells": [
  {
   "cell_type": "markdown",
   "id": "a2464b8a",
   "metadata": {},
   "source": [
    "# EGN 4060 - Spring 2021\n",
    "# Final Project: Data Analysis over HeapCraft Epilog Plugin"
   ]
  },
  {
   "cell_type": "markdown",
   "id": "423c964d",
   "metadata": {},
   "source": [
    "Import all libraries in cell below."
   ]
  },
  {
   "cell_type": "code",
   "execution_count": null,
   "id": "8b32c20d",
   "metadata": {
    "tags": []
   },
   "outputs": [],
   "source": [
    "import itertools\n",
    "from typing import Dict, List, Tuple, Union\n",
    "from pprint import pprint\n",
    "\n",
    "import copy\n",
    "import numpy as np\n",
    "import pandas as pd\n",
    "import plotly.graph_objects as go\n",
    "import plotly.express as px\n",
    "from tqdm import tqdm"
   ]
  },
  {
   "cell_type": "markdown",
   "id": "04df72fd",
   "metadata": {},
   "source": [
    "Load JSON file into a Pandas DataFrame, and convert the data types to be more optimal.\n",
    "\n",
    "If you are using this with the new data collected you'll need to change it to read CSV instead of JSON, and rename the x, y, z, and time columns. "
   ]
  },
  {
   "cell_type": "code",
   "execution_count": null,
   "id": "f050c401",
   "metadata": {},
   "outputs": [],
   "source": [
    "data = pd.read_json(\"data/epilog_data.json\", lines=True)\n",
    "data = data.convert_dtypes()"
   ]
  },
  {
   "cell_type": "code",
   "execution_count": null,
   "id": "d803d99f",
   "metadata": {},
   "outputs": [],
   "source": [
    "def chunk_play_sequences(\n",
    "    df: pd.DataFrame,\n",
    "    play_seqn: List[Tuple],\n",
    "    cols: List = [\"time\", \"x\", \"y\", \"z\"]\n",
    ") -> List[pd.DataFrame]:\n",
    "    ls = [df.loc[sequence, cols] for sequence in play_seqn]\n",
    "    return list(filter(lambda x: x.shape[0] > 0, ls))"
   ]
  },
  {
   "cell_type": "code",
   "execution_count": null,
   "id": "84f5ae68",
   "metadata": {},
   "outputs": [],
   "source": [
    "def get_player(\n",
    "    df: pd.DataFrame,\n",
    "    index: int,\n",
    "    cols: List = [\"time\", \"x\", \"y\", \"z\"]\n",
    ") -> List[pd.DataFrame]:\n",
    "    player = df.loc[df[\"player\"] == index]  # Get Player\n",
    "    \n",
    "    # Find [LoginEvent, QuitEvent] ranges for player\n",
    "    play_sequence = get_play_sequence(player)\n",
    "\n",
    "    \n",
    "    # Drop NaN Coordinates __after__ determining `play_sequences`\n",
    "    #   b/c PlayerLoginEvent and PlayerQuitEvent have NaN Coordinates\n",
    "    player = player.loc[~player[\"x\"].isna()]\n",
    "    player = player.loc[:, cols].astype(int)\n",
    "    \n",
    "    return chunk_play_sequences(player, play_sequence, cols)"
   ]
  },
  {
   "cell_type": "code",
   "execution_count": null,
   "id": "40106231",
   "metadata": {},
   "outputs": [],
   "source": [
    "def get_play_sequence(df: pd.DataFrame) -> List[Tuple]:\n",
    "    play = \"PlayerLoginEvent\"\n",
    "    quit = \"PlayerQuitEvent\"\n",
    "    \n",
    "    logins = df.loc[df[\"event\"] == play].index.tolist()\n",
    "    logoff = df.loc[df[\"event\"] == quit].index.tolist()\n",
    "    \n",
    "    if logins[0] > logoff[0]:\n",
    "        logoff = logoff[1:]\n",
    "    if logins[-1] > logoff[-1]:\n",
    "        logins = logins[:-1]\n",
    "    \n",
    "    play_sequence = map(lambda x: slice(*x, 1), zip(logins, logoff))\n",
    "    \n",
    "    return list(play_sequence)"
   ]
  },
  {
   "cell_type": "code",
   "execution_count": null,
   "id": "0d13e7a8",
   "metadata": {},
   "outputs": [],
   "source": [
    "def get_playtime(players: Dict) -> pd.DataFrame:\n",
    "    playtime = []\n",
    "    \n",
    "    for player, instances in players.items():\n",
    "        for idx, instance in enumerate(instances):\n",
    "            walltime = pd.to_datetime(instance[\"time\"], unit=\"ms\")\n",
    "            playtime.append({\n",
    "                \"player\": player,\n",
    "                \"n_events\": len(instance),\n",
    "                \"walltime\": (walltime.max() - walltime.min()),\n",
    "            })\n",
    "        \n",
    "    df = pd.DataFrame.from_dict(playtime)\n",
    "    df = df.dropna(subset=[\"walltime\"])\n",
    "    return df"
   ]
  },
  {
   "cell_type": "code",
   "execution_count": null,
   "id": "9f92f852",
   "metadata": {
    "scrolled": true,
    "tags": []
   },
   "outputs": [],
   "source": [
    "player_ls = data[\"player\"].unique().dropna()\n",
    "\n",
    "players = {player: \n",
    "           get_player(data, player) for player in player_ls}"
   ]
  },
  {
   "cell_type": "markdown",
   "id": "0969b6f1",
   "metadata": {},
   "source": [
    "Get the total amount that each player played overall, then analyze results."
   ]
  },
  {
   "cell_type": "code",
   "execution_count": null,
   "id": "2be58a59",
   "metadata": {},
   "outputs": [],
   "source": [
    "playtime_df = get_playtime(players)"
   ]
  },
  {
   "cell_type": "code",
   "execution_count": null,
   "id": "136584d0",
   "metadata": {
    "scrolled": true,
    "tags": []
   },
   "outputs": [],
   "source": [
    "playtime_df.groupby(\"player\")[\"walltime\"].describe()"
   ]
  },
  {
   "cell_type": "markdown",
   "id": "988ea01d",
   "metadata": {},
   "source": [
    "After analyzing the data, remove most inactive players from the DataFrame by dropping those who only logged into once, therefore having a non existent standard deviation playtime."
   ]
  },
  {
   "cell_type": "code",
   "execution_count": null,
   "id": "4fabb3c5",
   "metadata": {
    "scrolled": true,
    "tags": []
   },
   "outputs": [],
   "source": [
    "active_players = playtime_df.groupby(\"player\")[\"walltime\"].describe().dropna(subset=[\"std\"])\n",
    "active_players"
   ]
  },
  {
   "cell_type": "code",
   "execution_count": null,
   "id": "0cafe83c",
   "metadata": {},
   "outputs": [],
   "source": [
    "def find_overlapping_play(ps: Dict[int, List[pd.DataFrame]]) -> pd.DataFrame:\n",
    "    overlaps = []\n",
    "    \n",
    "    product = list(itertools.product(ps.keys(), ps.keys()))\n",
    "    product = list(filter(lambda t: t[0] < t[1], product))\n",
    "    for p1, p2 in tqdm(product, total=len(product), desc=\"Overlapping Play\"):\n",
    "        if p1 >= p2:\n",
    "            continue\n",
    "\n",
    "        p1_playtime = [p[\"time\"] for p in ps[p1]]\n",
    "        p2_playtime = [p[\"time\"] for p in ps[p2]]\n",
    "        \n",
    "        loop = list(itertools.product(enumerate(p1_playtime), enumerate(p2_playtime)))\n",
    "        # loop = tqdm(loop, total=len(loop), desc=f\"{p1} & {p2}\")\n",
    "        for (p1_idx, p1_time), (p2_idx, p2_time) in loop:\n",
    "            together = p1_time.isin(p2_time)\n",
    "            if together.sum() > 0:\n",
    "                overlaps += [{\"p1\": p1, \"p2\": p2, \"p1_idx\": p1_idx, \"p2_idx\": p2_idx}]\n",
    "        \n",
    "        # TODO find overlap in play times\n",
    "        # Ideally, you know who intersects and when ~ (player1, player2) @ (time12, time4)\n",
    "    \n",
    "    return pd.DataFrame.from_dict(overlaps)"
   ]
  },
  {
   "cell_type": "code",
   "execution_count": null,
   "id": "2642ee46",
   "metadata": {
    "scrolled": true,
    "tags": []
   },
   "outputs": [],
   "source": [
    "overlapping_play = find_overlapping_play(players)"
   ]
  },
  {
   "cell_type": "code",
   "execution_count": null,
   "id": "2c1bbf5f",
   "metadata": {
    "scrolled": true,
    "tags": []
   },
   "outputs": [],
   "source": [
    "display(overlapping_play)"
   ]
  },
  {
   "cell_type": "code",
   "execution_count": null,
   "id": "74de0c65",
   "metadata": {
    "scrolled": true,
    "tags": []
   },
   "outputs": [],
   "source": [
    "dfna.loc[dfna[\"event\"] == \"SheepDyeWoolEvent\"]"
   ]
  },
  {
   "cell_type": "code",
   "execution_count": null,
   "id": "89ab8b24",
   "metadata": {},
   "outputs": [],
   "source": [
    "dfn[\"player\"].unique()"
   ]
  },
  {
   "cell_type": "code",
   "execution_count": null,
   "id": "0547f108",
   "metadata": {},
   "outputs": [],
   "source": [
    "pd.set_option(\"display.precision\", 20)"
   ]
  },
  {
   "cell_type": "code",
   "execution_count": null,
   "id": "781e7ae2",
   "metadata": {},
   "outputs": [],
   "source": [
    "# display(overlapping_play[0:11])"
   ]
  },
  {
   "cell_type": "code",
   "execution_count": null,
   "id": "6966b8ff",
   "metadata": {},
   "outputs": [],
   "source": [
    "def make_scatter3d(\n",
    "    dfs: Dict[str, pd.DataFrame],\n",
    "    x: str = \"x\",\n",
    "    y: str = \"y\",\n",
    "    z: str = \"z\",\n",
    "    color: str = \"time\"\n",
    ") -> go.Figure:\n",
    "    assert type(dfs) == dict\n",
    "    \n",
    "    data = []\n",
    "    for key, df in dfs.items():\n",
    "        scatter = go.Scatter3d(\n",
    "            x=df[x], y=df[y], z=df[z],\n",
    "            marker={\n",
    "                \"size\": 3,\n",
    "                \"color\": df[color], \n",
    "                \"colorscale\": \"Rainbow\",\n",
    "                \"opacity\": 0.8\n",
    "            },\n",
    "            line=dict(\n",
    "                color='darkblue',\n",
    "                width=2\n",
    "            ),\n",
    "            text = [key for _ in range(len(df))]\n",
    "        )\n",
    "        data.append(scatter)\n",
    "    fig = go.Figure(data=data)\n",
    "    fig.update_layout(width=1600, height=1200)\n",
    "#     fig.show()\n",
    "    return fig"
   ]
  },
  {
   "cell_type": "code",
   "execution_count": null,
   "id": "18bc3208",
   "metadata": {},
   "outputs": [],
   "source": [
    "# CREATES FIGURE 2\n",
    "\n",
    "# scatterplayers1 = {\n",
    "#     \"p1-l1\": players[1][6],\n",
    "# }\n",
    "# fig = make_scatter3d(scatterplayers1, \"x\", \"y\", \"z\", \"time\")\n",
    "# fig.update_layout(title=\"Figure 2: Player 1, instance 6\")\n",
    "# fig.write_html(\"figure2.html\")"
   ]
  },
  {
   "cell_type": "code",
   "execution_count": null,
   "id": "490aa0f6",
   "metadata": {},
   "outputs": [],
   "source": [
    "# CREATES FIGURE 3\n",
    "\n",
    "# scatterplayers1 = {\n",
    "#     \"p1-l2\": players[1][1],\n",
    "#     \"p1-l3\": players[1][2],\n",
    "#     \"p1-l4\": players[1][3],\n",
    "#     \"p1-l5\": players[1][4],\n",
    "#     \"p1-l23\": players[1][22],\n",
    "#     \"p1-l24\": players[1][23],\n",
    "#     \"p1-l35\": players[1][34],\n",
    "#     \"p1-l36\": players[1][35],\n",
    "# }\n",
    "# fig = make_scatter3d(scatterplayers1, \"x\", \"y\", \"z\", \"time\")\n",
    "# fig.update_layout(title=\"Figure 3: All instances Player 1 overlapped with Player 3\")\n",
    "# fig.write_html(\"figure3.html\")"
   ]
  },
  {
   "cell_type": "code",
   "execution_count": null,
   "id": "d19ab07c",
   "metadata": {},
   "outputs": [],
   "source": [
    "# CREATES FIGURE 4\n",
    "\n",
    "# scatterplayers3 = {\n",
    "#     \"p3-l3\": players[3][2],\n",
    "#     \"p3-l4\": players[3][3],\n",
    "#     \"p3-l10\": players[3][9],\n",
    "#     \"p3-l11\": players[3][10],\n",
    "#     \"p3-l13\": players[3][12],\n",
    "#     \"p3-l29\": players[3][28],\n",
    "# }\n",
    "# fig = make_scatter3d(scatterplayers3, \"x\", \"y\", \"z\", \"time\")\n",
    "# fig.update_layout(title=\"Figure 4: All instances Player 3 overlapped with Player 1\")\n",
    "# fig.write_html(\"figure4.html\")"
   ]
  },
  {
   "cell_type": "code",
   "execution_count": null,
   "id": "ffa99029",
   "metadata": {
    "scrolled": true,
    "tags": []
   },
   "outputs": [],
   "source": [
    "# CREATES FIGURE 5\n",
    "\n",
    "# scatterplayers1_3 = {\n",
    "#     \"p1-l2\": players[1][1],\n",
    "#     \"p1-l3\": players[1][2],\n",
    "#     \"p1-l4\": players[1][3],\n",
    "#     \"p1-l5\": players[1][4],\n",
    "#     \"p1-l23\": players[1][22],\n",
    "#     \"p1-l24\": players[1][23],\n",
    "#     \"p1-l35\": players[1][34],\n",
    "#     \"p1-l36\": players[1][35],\n",
    "#     \"p3-l3\": players[3][2],\n",
    "#     \"p3-l4\": players[3][3],\n",
    "#     \"p3-l10\": players[3][9],\n",
    "#     \"p3-l11\": players[3][10],\n",
    "#     \"p3-l13\": players[3][12],\n",
    "#     \"p3-l29\": players[3][28]\n",
    "# }\n",
    "# fig = make_scatter3d(scatterplayers1_3, \"x\", \"y\", \"z\", \"time\")\n",
    "# fig.update_layout(title=\"Figure 5: All instances with both Players 1 and 3, together\")\n",
    "# fig.write_html(\"figure5.html\")"
   ]
  }
 ],
 "metadata": {
  "kernelspec": {
   "display_name": "Python 3 (ipykernel)",
   "language": "python",
   "name": "python3"
  },
  "language_info": {
   "codemirror_mode": {
    "name": "ipython",
    "version": 3
   },
   "file_extension": ".py",
   "mimetype": "text/x-python",
   "name": "python",
   "nbconvert_exporter": "python",
   "pygments_lexer": "ipython3",
   "version": "3.9.7"
  }
 },
 "nbformat": 4,
 "nbformat_minor": 5
}
