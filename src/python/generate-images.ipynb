{
 "cells": [
  {
   "cell_type": "code",
   "execution_count": 1,
   "id": "888ecaa7-beb3-4626-8b7f-fec05787f933",
   "metadata": {},
   "outputs": [],
   "source": [
    "import pandas as pd\n",
    "import matplotlib.pyplot as plt\n",
    "import os\n",
    "import math\n",
    "import numpy as np\n",
    "import random"
   ]
  },
  {
   "cell_type": "code",
   "execution_count": 2,
   "id": "8ad274c7-114f-4991-a8af-afed3a9d5ff5",
   "metadata": {},
   "outputs": [],
   "source": [
    "#useful variables\n",
    "DATA_DIR = '../../data/'\n",
    "IMG_DIR = '../../imgs/'\n",
    "worlds = ['overworld', 'nether', 'end']\n",
    "BUFFER = 500\n",
    "#each row, minX, maxX, minZ, maxZ\n",
    "world_bounds = {worlds[0]:[0,0,0,0], #overworld\n",
    "                worlds[1]:[0,0,0,0], #nether\n",
    "                worlds[2]:[0,0,0,0]} #end\n",
    "\n",
    "TICKS_PER_24HR = 1728000"
   ]
  },
  {
   "cell_type": "markdown",
   "id": "92a6131b-76cc-438a-af0b-b20a4f4b7ed1",
   "metadata": {},
   "source": [
    "### Get Unique Players and Colors"
   ]
  },
  {
   "cell_type": "code",
   "execution_count": 3,
   "id": "c3f04ecb-d6c3-4c60-a6fa-d3f1f599eba5",
   "metadata": {},
   "outputs": [],
   "source": [
    "player_df = pd.read_csv(DATA_DIR + 'overworld/PlayerMoveEvent.csv')\n",
    "players = player_df['player'].unique()\n",
    "num_players = len(players)\n",
    "\n",
    "player_mapping = {players[i]:i for i in range(len(players))}"
   ]
  },
  {
   "cell_type": "markdown",
   "id": "225f0c8b-fa33-4eb1-960c-b1b456be086a",
   "metadata": {},
   "source": [
    "### Generate random colors"
   ]
  },
  {
   "cell_type": "code",
   "execution_count": 4,
   "id": "35fbb1c0-26f9-45fa-a5d1-cd8a420524fa",
   "metadata": {},
   "outputs": [],
   "source": [
    "get_colors = lambda n: list(map(lambda i: \"#\" + \"%06x\" % random.randint(0, 0xFFFFFF),range(n)))\n",
    "colors = get_colors(num_players)"
   ]
  },
  {
   "cell_type": "markdown",
   "id": "091c0ac6-8cd3-4f9f-8069-8b8166b97911",
   "metadata": {},
   "source": [
    "### Find world bounds for each world"
   ]
  },
  {
   "cell_type": "code",
   "execution_count": 5,
   "id": "91f7a78f-48fb-4a9e-89ed-572a4ba2fe4c",
   "metadata": {},
   "outputs": [],
   "source": [
    "max_time = 0\n",
    "\n",
    "# gets the bounds of the data for each world\n",
    "for i, world in enumerate(worlds):\n",
    "    ref_csv = pd.read_csv(DATA_DIR + world + '/PlayerMoveEvent.csv')\n",
    "    x_coords = ref_csv['location.x']\n",
    "    z_coords = ref_csv['location.z']\n",
    "    max_time = max(max_time, max(ref_csv['worldTime']))\n",
    "    \n",
    "    world_bounds[world][0] = min(x_coords) - BUFFER\n",
    "    world_bounds[world][1] = max(x_coords) + BUFFER\n",
    "    world_bounds[world][2] = min(z_coords) - BUFFER\n",
    "    world_bounds[world][3] = max(z_coords) + BUFFER"
   ]
  },
  {
   "cell_type": "markdown",
   "id": "df8b6269-1f80-4432-b3fb-25fd7d565f18",
   "metadata": {},
   "source": [
    "### Create Folders"
   ]
  },
  {
   "cell_type": "code",
   "execution_count": 6,
   "id": "6a6d6f46-a600-48a4-8197-0836198bab3d",
   "metadata": {},
   "outputs": [],
   "source": [
    "num_days = math.ceil(max_time / TICKS_PER_24HR)\n",
    "\n",
    "# folers for each separate day\n",
    "for d in range(num_days):\n",
    "    for world in worlds:\n",
    "        for p in range(len(players)):\n",
    "            os.makedirs(IMG_DIR + 'day_'+str(d) + '/' + world + '/' + 'player_'+str(p)+'/', exist_ok=True)\n",
    "\n",
    "# folders for ALL days\n",
    "for world in worlds:\n",
    "    for p in range(len(players)):\n",
    "        os.makedirs(IMG_DIR + 'ALL' + '/' + world + '/' + 'player_'+str(p)+'/', exist_ok=True)"
   ]
  },
  {
   "cell_type": "markdown",
   "id": "a82cfae6-0437-43a1-ae4c-07e8a07a0a0c",
   "metadata": {},
   "source": [
    "### Generate images for each day"
   ]
  },
  {
   "cell_type": "code",
   "execution_count": 7,
   "id": "efe50c3d-606e-46a9-ba22-83f6cf1b9e5f",
   "metadata": {},
   "outputs": [
    {
     "data": {
      "text/plain": [
       "<Figure size 432x288 with 0 Axes>"
      ]
     },
     "metadata": {},
     "output_type": "display_data"
    }
   ],
   "source": [
    "# for each world\n",
    "for i, world in enumerate(worlds):\n",
    "    \n",
    "    # get all files in world directory\n",
    "    curr_dir = DATA_DIR + world + '/'\n",
    "    all_files = [f for f in os.listdir(curr_dir) if os.path.isfile(os.path.join(curr_dir, f))]\n",
    "    \n",
    "    #for each event\n",
    "    for f in all_files:\n",
    "        event_name = f[:-4]\n",
    "        temp_df = pd.read_csv(curr_dir + f)\n",
    "        temp_df['worldTime'] = np.floor(temp_df['worldTime'] / TICKS_PER_24HR)\n",
    "        \n",
    "        temp_unique_days = list(temp_df['worldTime'].unique())\n",
    "        \n",
    "        # for each day\n",
    "        for day in temp_unique_days:\n",
    "            temp_time_df = temp_df[temp_df['worldTime'] == day]\n",
    "            unique_players_at_time = list(temp_time_df['player'].unique())\n",
    "            \n",
    "            # for each player\n",
    "            for player in unique_players_at_time:\n",
    "                temp_player_df = temp_time_df[temp_time_df['player'] == player]\n",
    "                \n",
    "                #Get data\n",
    "                x_data = temp_player_df['location.x']\n",
    "                z_data = temp_player_df['location.z']\n",
    "                player_idx = player_mapping[player]\n",
    "                #set bounds of plot\n",
    "                plt.xlim([world_bounds[world][0], world_bounds[world][1]])\n",
    "                plt.ylim([world_bounds[world][2], world_bounds[world][3]])\n",
    "                \n",
    "                #makt the plot\n",
    "                # plt.title(world+ '_day'+str(int(day))+'_player'+str(player_idx)+'_'+event_name)\n",
    "                plt.scatter(x_data,z_data, c=colors[player_idx], s = 1)\n",
    "                \n",
    "                filename = event_name + '.png'\n",
    "                filepath = IMG_DIR + 'day_' + str(int(day)) + '/' + world + '/player_' + str(player_idx) + '/' + filename\n",
    "                plt.savefig(filepath, format='png', dpi=150, transparent=True)\n",
    "                plt.clf()\n",
    "        "
   ]
  },
  {
   "cell_type": "markdown",
   "id": "3dc3030c-83a0-4cc9-88ef-25c0b269be87",
   "metadata": {},
   "source": [
    "### Generate images across all days"
   ]
  },
  {
   "cell_type": "code",
   "execution_count": 8,
   "id": "a88d9425-c015-471f-8f28-c966533675b0",
   "metadata": {},
   "outputs": [
    {
     "data": {
      "text/plain": [
       "<Figure size 432x288 with 0 Axes>"
      ]
     },
     "metadata": {},
     "output_type": "display_data"
    }
   ],
   "source": [
    "# for each world\n",
    "for i, world in enumerate(worlds):\n",
    "    \n",
    "    # get all files in world directory\n",
    "    curr_dir = DATA_DIR + world + '/'\n",
    "    all_files = [f for f in os.listdir(curr_dir) if os.path.isfile(os.path.join(curr_dir, f))]\n",
    "    \n",
    "    #for each event\n",
    "    for f in all_files:\n",
    "        event_name = f[:-4]\n",
    "        temp_df = pd.read_csv(curr_dir + f)\n",
    "        temp_df['worldTime'] = np.floor(temp_df['worldTime'] / TICKS_PER_24HR)\n",
    "        \n",
    "        unique_players_at_time = list(temp_df['player'].unique())\n",
    "            \n",
    "        #for each player\n",
    "        for player in unique_players_at_time:\n",
    "            temp_player_df = temp_df[temp_df['player'] == player]\n",
    "\n",
    "            #Get data\n",
    "            x_data = temp_player_df['location.x']\n",
    "            z_data = temp_player_df['location.z']\n",
    "            player_idx = player_mapping[player]\n",
    "            #set bounds of plot\n",
    "            plt.xlim([world_bounds[world][0], world_bounds[world][1]])\n",
    "            plt.ylim([world_bounds[world][2], world_bounds[world][3]])\n",
    "\n",
    "            #makt the plot\n",
    "            # plt.title(world+ '_ALL-DAYS'+'_player'+str(player_idx)+'_'+event_name)\n",
    "            plt.scatter(x_data,z_data, c=colors[player_idx], s = 1)\n",
    "\n",
    "            filename = event_name + '.png'\n",
    "            filepath = IMG_DIR + 'ALL'+ '/' + world + '/player_' + str(player_idx) + '/' + filename\n",
    "            plt.savefig(filepath, format='png', dpi=150, transparent=True)\n",
    "            plt.clf()\n",
    "        "
   ]
  },
  {
   "cell_type": "code",
   "execution_count": null,
   "id": "be844ee6-f383-4c16-8171-6faa7cd46f69",
   "metadata": {},
   "outputs": [],
   "source": []
  }
 ],
 "metadata": {
  "kernelspec": {
   "display_name": "minecraft-collab",
   "language": "python",
   "name": "minecraft-collab"
  },
  "language_info": {
   "codemirror_mode": {
    "name": "ipython",
    "version": 3
   },
   "file_extension": ".py",
   "mimetype": "text/x-python",
   "name": "python",
   "nbconvert_exporter": "python",
   "pygments_lexer": "ipython3",
   "version": "3.6.5"
  }
 },
 "nbformat": 4,
 "nbformat_minor": 5
}
