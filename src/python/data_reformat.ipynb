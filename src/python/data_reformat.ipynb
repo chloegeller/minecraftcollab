{
 "cells": [
  {
   "cell_type": "code",
   "execution_count": null,
   "id": "private-infrastructure",
   "metadata": {},
   "outputs": [],
   "source": [
    "import os\n",
    "import pandas as pd\n",
    "import numpy as np\n",
    "from pathlib import Path\n",
    "import fnmatch\n",
    "from IPython.display import Markdown as md\n",
    "import plotly.graph_objects as go\n",
    "import plotly.express as px\n",
    "import math\n",
    "import random\n",
    "from dask import dataframe as dd\n",
    "import pickle"
   ]
  },
  {
   "cell_type": "code",
   "execution_count": null,
   "id": "ea2ac12a-f042-46a4-b94c-f12be537bd2c",
   "metadata": {},
   "outputs": [],
   "source": [
    "pd.options.display.max_columns = 200\n",
    "pd.options.display.max_rows = 200\n",
    "pd.set_option(\"display.max_colwidth\", None)"
   ]
  },
  {
   "cell_type": "code",
   "execution_count": null,
   "id": "38d5c0de-9361-4687-9e40-e16bd30435e1",
   "metadata": {},
   "outputs": [],
   "source": [
    "DATAPATH = Path('../../data/')\n",
    "DOCSPATH = Path('../../docs/data/')\n",
    "PLOTSPATH3D = Path('../../docs/plots/3d/')\n",
    "PLOTSPATH2D = Path('../../docs/plots/2d/')"
   ]
  },
  {
   "cell_type": "code",
   "execution_count": null,
   "id": "f96433e3-6873-49e7-84c1-e70d18d6adfa",
   "metadata": {},
   "outputs": [],
   "source": [
    "# Using Dask's DataFrames to glob all the event CSVs in `datapath`\n",
    "ddf = dd.read_csv(f\"{DATAPATH}/**/*.csv\")[\"player\"].unique().compute()\n",
    "# Swapping the index/data values so that when `dict(...)` is run we get entries like:\n",
    "#   \"<hash>\": <index>,\n",
    "ddf = pd.DataFrame({\"player\": ddf.values, \"pindex\": ddf.index.values})\n",
    "# ddf.to_csv(DATAPATH / \"platerindex.csv\", index=False)\n",
    "\n",
    "playerindex = {player: pindex for (player, pindex) in zip(ddf[\"player\"], ddf[\"pindex\"])}\n",
    "\n",
    "# NOTE then you can do something like...\n",
    "#     player2index = dict(pd.read_csv(datapath / \"playerindex.csv\"))\n",
    "#   and you'll have a dictionary that does the correct remapping"
   ]
  },
  {
   "cell_type": "code",
   "execution_count": null,
   "id": "stuffed-welding",
   "metadata": {},
   "outputs": [],
   "source": [
    "# def list_to_dic(lst):\n",
    "#     index = [i for i in range(len(lst))]\n",
    "#     zipped = list(zip(lst,index))\n",
    "#     ret = {zipped[i][0]: zipped[i][1] for i in range(len(zipped))}\n",
    "#     return ret"
   ]
  },
  {
   "cell_type": "code",
   "execution_count": null,
   "id": "6939698b-ef28-4029-a450-ac525e728075",
   "metadata": {},
   "outputs": [],
   "source": [
    "# def process_data(world):\n",
    "#     basepath = '../../data/'\n",
    "#     datapath = '../../docs/data/'\n",
    "    \n",
    "#     with os.scandir(basepath + world) as entries:\n",
    "#         for entry in entries:\n",
    "#             if entry.is_file():\n",
    "#                 event_file = entry.name\n",
    "#                 event_name = (os.path.splitext(entry.name)[0])\n",
    "\n",
    "#                 event_df = pd.read_csv(basepath + world + event_file)\n",
    "#                 event_df.drop(columns=['event'], inplace=True)\n",
    "                \n",
    "#                 unique_players = list(event_df['player'].unique())\n",
    "#                 player_mapping = list_to_dic(unique_players)\n",
    "#                 event_df['player'] = event_df['player'].map(player_mapping)\n",
    "#                 unique_players = list(event_df['player'].unique())\n",
    "\n",
    "#                 event_df.rename(columns={'location.x': 'x', 'location.y': 'y', 'location.z': 'z', 'worldTime': 'time'}, inplace=True)\n",
    "#                 event_df['mc_day'] = (event_df['time'] / 24000).astype(int)\n",
    "#                 display(md(f'## {event_name}'))\n",
    "#                 # display(event_df)\n",
    "\n",
    "#                 path = Path(datapath + world + event_name + '/')\n",
    "#                 path.mkdir(exist_ok=True)\n",
    "                \n",
    "\n",
    "#                 if fnmatch.fnmatch(event_file, 'PlayerMoveEvent.csv') or fnmatch.fnmatch(event_file, 'EntityDamageByEntityEvent.csv'):\n",
    "#                     make_csv_large(event_df, unique_players, datapath + world + event_name + '/', event_name)\n",
    "#                 else:\n",
    "#                     make_csv_small(event_df, unique_players, datapath + world + event_name + '/', event_name)\n",
    "#                     # players_ls = make_ls_players(event_df, unique_players)\n",
    "#                     # plot = make_player_plots(players_ls, color)\n",
    "#                     # plot.show()\n",
    "                "
   ]
  },
  {
   "cell_type": "code",
   "execution_count": null,
   "id": "feb58bd1-8fc6-46cb-bd3b-dc648d6c4784",
   "metadata": {},
   "outputs": [],
   "source": [
    "# def make_csv_large(event_df, players, path, event_name):\n",
    "#     for player in players:\n",
    "#         df = event_df[event_df['player'] == player]\n",
    "\n",
    "#         df = df[df.index % 20 == 0]\n",
    "\n",
    "#         filename = path + str(player) + '_' + event_name + '.csv'\n",
    "#         df.to_csv(filename, index=False)"
   ]
  },
  {
   "cell_type": "code",
   "execution_count": null,
   "id": "0b352c0a-0a9b-4c9f-983a-0efe20030fe9",
   "metadata": {},
   "outputs": [],
   "source": [
    "# def make_csv_small(event_df, players, path, event_name):\n",
    "#     for player in players:\n",
    "#         df = event_df[event_df['player'] == player]\n",
    "\n",
    "#         filename = path + str(player) + '_' + event_name + '.csv'\n",
    "#         df.to_csv(filename, index=False)"
   ]
  },
  {
   "cell_type": "code",
   "execution_count": null,
   "id": "5d07cb5b-5b7d-47ed-8579-d5a99a447af6",
   "metadata": {},
   "outputs": [],
   "source": [
    "# def make_ls_players(event_df, players):\n",
    "#     players_ls = []\n",
    "\n",
    "#     for player in players:\n",
    "#         df = event_df[event_df['player'] == player]\n",
    "#         players_ls.append(df)\n",
    "        \n",
    "#     return players_ls"
   ]
  },
  {
   "cell_type": "code",
   "execution_count": null,
   "id": "19f86556-c046-4b66-bbe3-b4aeb692f058",
   "metadata": {},
   "outputs": [],
   "source": [
    "# def make_player_plots(players, random_color):\n",
    "#     data = []\n",
    "    \n",
    "#     for df in players:\n",
    "#         scatter = go.Scatter3d(\n",
    "#             mode='markers',\n",
    "#             x=df[\"x\"], y=df[\"z\"], z=df[\"y\"],\n",
    "#             name = 'Player' + df,\n",
    "#             marker={\n",
    "#                 \"size\": 3,\n",
    "#                 \"color\": random_color, \n",
    "#                 # \"colorscale\": \"Rainbow\",\n",
    "#                 \"opacity\": 0.8\n",
    "#             },\n",
    "#             # line=dict(\n",
    "#             #     color='darkblue',\n",
    "#             #     width=2\n",
    "#             # ),\n",
    "#             # text = [df for _ in range(len(df))]\n",
    "#         )\n",
    "#         data.append(scatter)\n",
    "#     fig = go.Figure(data=data)\n",
    "#     fig.update_layout(width=600, height=400)\n",
    "# #     fig.show()\n",
    "#     return fig"
   ]
  },
  {
   "cell_type": "code",
   "execution_count": null,
   "id": "777f4945-ce86-49f6-b287-a0fa2da3484a",
   "metadata": {},
   "outputs": [],
   "source": [
    "# def make_random_color():\n",
    "#     random_color = []\n",
    "    \n",
    "#     for i in range(0, 40): \n",
    "#         r = str(math.floor(random.randrange(0, 256)))\n",
    "#         g = str(math.floor(random.randrange(0, 256)))\n",
    "#         b = str(math.floor(random.randrange(0, 256)))\n",
    "#         random_color.append('rgb(' + r + ',' + g + ',' + b +')')\n",
    "        \n",
    "#     return random_color"
   ]
  },
  {
   "cell_type": "code",
   "execution_count": null,
   "id": "a8301b3f-e84b-45a0-96fc-df28e5b35b8a",
   "metadata": {},
   "outputs": [],
   "source": [
    "def get_every_40(df):\n",
    "    return df.loc[df.index % 40 == 0]"
   ]
  },
  {
   "cell_type": "code",
   "execution_count": null,
   "id": "3198eefe",
   "metadata": {},
   "outputs": [],
   "source": [
    "def get_every_60(df):\n",
    "    return df.loc[df.index % 60 == 0]"
   ]
  },
  {
   "cell_type": "code",
   "execution_count": null,
   "id": "973201e1-5910-4914-8fd8-be6be95f617c",
   "metadata": {},
   "outputs": [],
   "source": [
    "# %% Convert a Player into a Scatter3D trace\n",
    "def player2trace(player, group):\n",
    "    scatter = go.Scatter3d(\n",
    "        mode=\"markers\",\n",
    "        x=group[\"x\"], y=group[\"z\"], z=group[\"y\"],\n",
    "        marker={\"size\": 3, \"color\": group[\"mc_day\"], \"opacity\": 0.8},\n",
    "        name=f\"Player {player}\",\n",
    "    )\n",
    "    return scatter"
   ]
  },
  {
   "cell_type": "code",
   "execution_count": null,
   "id": "81152a2b-62e9-41b7-a426-d88fae23bf35",
   "metadata": {},
   "outputs": [],
   "source": [
    "# %% Convert a DataFrame into a Plot\n",
    "def df2plot(df, name):\n",
    "    traces = []\n",
    "    # For every player in the dataframe, convert them into a plotly trace\n",
    "    for (player, group) in df.groupby(\"pindex\"):\n",
    "        traces += [player2trace(player, group)]\n",
    "\n",
    "    fig = go.Figure(data=traces)\n",
    "    fig.update_layout({\n",
    "        \"title\": {\"text\": name},\n",
    "        \"width\": 900, \"height\": 900,\n",
    "    })\n",
    "    return fig"
   ]
  },
  {
   "cell_type": "code",
   "execution_count": null,
   "id": "eace4ab9-c961-46d6-b50d-575cdbda521a",
   "metadata": {},
   "outputs": [],
   "source": [
    "# %% Preprocess the DataFrame\n",
    "def preprocess_df(file):\n",
    "    df = pd.read_csv(file)\n",
    "    # Use the Player Index created by Dask (above) to do the mappings\n",
    "    # player2index = dict(pd.read_csv(DATAPATH / \"playerindex.csv\"))\n",
    "    df[\"pindex\"] = df[\"player\"].replace(playerindex)\n",
    "\n",
    "    df = df.rename(columns={\n",
    "        \"location.x\": \"x\", \"location.y\": \"y\", \"location.z\": \"z\",\n",
    "        \"worldTime\": \"time\",\n",
    "    })\n",
    "\n",
    "    df[\"mc_day\"] = (df[\"time\"] / 24_000).astype(int)\n",
    "    # df.to_csv(file.parent / f\"{file.stem}-preprocessed.csv\", index=False)\n",
    "    return df"
   ]
  },
  {
   "cell_type": "code",
   "execution_count": null,
   "id": "e21e60dc-bfab-4d26-87c2-12fea4ea3ba1",
   "metadata": {},
   "outputs": [],
   "source": [
    "# %% Chunk events by Players\n",
    "def chunk_by_player(event_path, df, name):\n",
    "    for (player, group) in df.groupby(\"pindex\"):\n",
    "        fname = event_path / f\"{player}_{name}.csv\"\n",
    "        group.reset_index().to_csv(fname, index=False)\n",
    "\n",
    "    return df"
   ]
  },
  {
   "cell_type": "code",
   "execution_count": null,
   "id": "17296f71-0a85-466a-93ce-f32109adb192",
   "metadata": {},
   "outputs": [],
   "source": [
    "# %% Preprocess & Plot the Data\n",
    "def preprocess_and_plot_data(world):\n",
    "    # NOTE this works iff you're only looking for CSVs.\n",
    "    for file in (DATAPATH / world).glob(\"*.csv\"):\n",
    "        name = (os.path.splitext(file.name)[0])\n",
    "        display(md(f\"## {name}\"))\n",
    "        df = preprocess_df(file)\n",
    "\n",
    "        event_path = DOCSPATH / world / file.stem\n",
    "        event_path.mkdir(parents=True, exist_ok=True)\n",
    "        df = chunk_by_player(event_path, df, name)\n",
    "\n",
    "        # skip_plot = [\"PlayerMoveEvent\", \"EntityDamageByEntityEvent\"]\n",
    "        if file.stem == \"PlayerMoveEvent\":\n",
    "            df = get_every_40(df)\n",
    "        elif file.stem == \"EntityDamageByEntityEvent\":\n",
    "            df = get_every_60(df)\n",
    "\n",
    "        df.to_csv(str(DOCSPATH / world / name) + \".html\")\n",
    "        # fig = df2plot(df, name)\n",
    "        # fig.write_html(str(PLOTSPATH3D / world / name) + \".html\")\n",
    "        # fig.show()"
   ]
  },
  {
   "cell_type": "markdown",
   "id": "683eca0d-2c09-4147-a87f-b8fe6af6839c",
   "metadata": {},
   "source": [
    "# Overworld"
   ]
  },
  {
   "cell_type": "code",
   "execution_count": null,
   "id": "5d0fae2b-61d6-4045-a539-857142a67e8f",
   "metadata": {
    "scrolled": true,
    "tags": []
   },
   "outputs": [],
   "source": [
    "preprocess_and_plot_data(\"overworld\")"
   ]
  },
  {
   "cell_type": "markdown",
   "id": "39bd620b-fcaa-4308-a5b5-3d1ba35c8a7d",
   "metadata": {},
   "source": [
    "# Nether"
   ]
  },
  {
   "cell_type": "code",
   "execution_count": null,
   "id": "4acc27fe-eff7-491a-9e8f-076b639ff6c5",
   "metadata": {
    "scrolled": true,
    "tags": []
   },
   "outputs": [],
   "source": [
    "preprocess_and_plot_data(\"nether\")"
   ]
  },
  {
   "cell_type": "markdown",
   "id": "7eefdfe5-4c4c-477c-b61a-8cdf2b2cb3d2",
   "metadata": {
    "tags": []
   },
   "source": [
    "# End"
   ]
  },
  {
   "cell_type": "code",
   "execution_count": null,
   "id": "8b58bb68-9954-48b1-99af-3092d5d0a1b2",
   "metadata": {
    "tags": []
   },
   "outputs": [],
   "source": [
    "# random_color = make_random_color()\n",
    "preprocess_and_plot_data(\"end\")"
   ]
  },
  {
   "cell_type": "markdown",
   "id": "2e59f513-f303-4504-b478-5a3e065b2a17",
   "metadata": {
    "tags": []
   },
   "source": [
    "# Plots"
   ]
  },
  {
   "cell_type": "code",
   "execution_count": null,
   "id": "c652199e-e2a8-42f8-93f0-a4aa3c0864b1",
   "metadata": {},
   "outputs": [],
   "source": [
    "# import plotly.graph_objects as go\n",
    "# import plotly.express as px"
   ]
  },
  {
   "cell_type": "code",
   "execution_count": null,
   "id": "fc7372e9-a3aa-46bd-8cbe-88f5b02b0878",
   "metadata": {
    "scrolled": true,
    "tags": []
   },
   "outputs": [],
   "source": [
    "def get_data(world, event):\n",
    "    event_file = '../../data/' + world + '/' + event + '.csv'\n",
    "    event_df = pd.read_csv(event_file)\n",
    "    display(event_df)\n",
    "    \n",
    "    # drop unnecessary columns\n",
    "    event_df.drop(columns=['_id','event'], inplace=True)\n",
    "    display(event_df)\n",
    "    \n",
    "    unique_players = list(event_df['player'].unique())\n",
    "    print(unique_players)\n",
    "    \n",
    "    player_mapping = list_to_dic(unique_players)\n",
    "    \n",
    "    event_df['player'] = event_df['player'].map(player_mapping)\n",
    "    \n",
    "    unique_players = list(event_df['player'].unique())\n",
    "    print(unique_players)\n",
    "    \n",
    "    event_df.rename(columns={'location.x': 'x', 'location.y': 'y', 'location.z': 'z', 'worldTime': 'time'}, inplace=True)\n",
    "    \n",
    "    return (event_df, unique_players)\n",
    "\n",
    "def make_csv_plots(move, players, world, folder):\n",
    "    for player in players:\n",
    "        # df = move[move['player'] == player]\n",
    "        # print('BEFORE: ' + str(len(df)))\n",
    "        #drop all odd numbered rows\n",
    "    #     drop_i = [i for i in list(range(len(df))) if i % 2 == 1]\n",
    "    #     df.drop(drop_i, inplace=True)\n",
    "        df = move[move.index % 20 == 0]\n",
    "        # print('AFTER: ', str(len(df)))\n",
    "\n",
    "    filepath = '../../docs/data/' + world + \"/\" + folder + \"/\"\n",
    "    filename = filepath + 'plot' + '_' + folder + '.csv'\n",
    "    df.to_csv(filename, index=False)\n",
    "    # return df\n",
    "    "
   ]
  },
  {
   "cell_type": "code",
   "execution_count": null,
   "id": "4ba64264-00b5-4e8c-894b-92abd194621c",
   "metadata": {
    "scrolled": true,
    "tags": []
   },
   "outputs": [],
   "source": [
    "(df, unique_players) = get_data('overworld', 'PlayerMoveEvent')\n",
    "make_csv_plots(df, unique_players, 'overworld', 'move')"
   ]
  },
  {
   "cell_type": "markdown",
   "id": "961ed63a-f069-4d5f-a60a-c159e9d209b0",
   "metadata": {},
   "source": [
    "# Qualtrics Pre-Survey"
   ]
  },
  {
   "cell_type": "code",
   "execution_count": null,
   "id": "3607b206-ca75-4fb6-a5ce-13f5c5ebd7cf",
   "metadata": {},
   "outputs": [],
   "source": [
    "df_q = pd.read_csv(\"../../data/01-qualtrics.csv\")\n",
    "df_q = df_q.drop(columns=['StartDate',\t'EndDate',\t'Status',\t'IPAddress',\t'Progress',\t'Duration (in seconds)',\t'Finished',\t'RecordedDate',\t'ResponseId',\t'RecipientLastName',\t'RecipientFirstName',\t'RecipientEmail',\t'ExternalReference',\t'LocationLatitude',\t'LocationLongitude',\t'DistributionChannel',\t'UserLanguage', 'mc_dim_4_TEXT'])\t"
   ]
  },
  {
   "cell_type": "code",
   "execution_count": null,
   "id": "5601adb4-124c-468f-aaa6-bdfaa135ea1b",
   "metadata": {},
   "outputs": [],
   "source": [
    "df_q[\"consent\"] = df_q[\"consent\"].dropna()"
   ]
  },
  {
   "cell_type": "code",
   "execution_count": null,
   "id": "2bb0d309-0f10-442a-9279-6895ef169692",
   "metadata": {},
   "outputs": [],
   "source": [
    "df_q = df_q.drop(index=[0, 1, 2, 3, 47, 48, 49, 50, 51, 52, 53, 54,55, 58, 59, 60, 62, 63, 64, 65, 66, 67, 68, 69, 70, 71, 90]).reset_index(drop=True)\n",
    "df_q.to_csv(\"../../data/02-qualtrics.csv\", index=False)"
   ]
  },
  {
   "cell_type": "code",
   "execution_count": null,
   "id": "a1916c4c-aa3e-49e6-aa64-91ca4bffb007",
   "metadata": {},
   "outputs": [],
   "source": [
    "df_q = df_q.drop(columns=[\"username\"])"
   ]
  },
  {
   "cell_type": "code",
   "execution_count": null,
   "id": "b787830a-71e6-49d0-bbac-2824cdaad72b",
   "metadata": {},
   "outputs": [],
   "source": [
    "df_q.to_csv(\"../../public/data/01-qualtrics.csv\", index=False)"
   ]
  },
  {
   "cell_type": "code",
   "execution_count": null,
   "id": "a2e85713-387a-4649-94d2-cbd23acb0f89",
   "metadata": {},
   "outputs": [],
   "source": []
  }
 ],
 "metadata": {
  "kernelspec": {
   "display_name": "Python 3 (ipykernel)",
   "language": "python",
   "name": "python3"
  },
  "language_info": {
   "codemirror_mode": {
    "name": "ipython",
    "version": 3
   },
   "file_extension": ".py",
   "mimetype": "text/x-python",
   "name": "python",
   "nbconvert_exporter": "python",
   "pygments_lexer": "ipython3",
   "version": "3.9.7"
  }
 },
 "nbformat": 4,
 "nbformat_minor": 5
}
